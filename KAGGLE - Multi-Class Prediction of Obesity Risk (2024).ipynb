{
 "cells": [
  {
   "cell_type": "code",
   "outputs": [],
   "source": [
    "# %reset"
   ],
   "metadata": {
    "collapsed": false,
    "ExecuteTime": {
     "end_time": "2024-03-11T15:06:22.948160Z",
     "start_time": "2024-03-11T15:06:20.124144300Z"
    }
   },
   "id": "aed45a03f83784f1",
   "execution_count": 125
  },
  {
   "cell_type": "code",
   "execution_count": 126,
   "id": "initial_id",
   "metadata": {
    "collapsed": true,
    "ExecuteTime": {
     "end_time": "2024-03-11T15:06:28.461642900Z",
     "start_time": "2024-03-11T15:06:28.457198900Z"
    }
   },
   "outputs": [],
   "source": [
    "import pandas as pd\n",
    "import matplotlib.pyplot as plt\n",
    "import numpy as np\n",
    "import seaborn as sns\n",
    "\n",
    "from xgboost import XGBClassifier\n",
    "from sklearn.ensemble import GradientBoostingClassifier\n",
    "from sklearn.model_selection import GridSearchCV\n",
    "from sklearn.preprocessing import LabelEncoder\n",
    "from catboost import CatBoostClassifier\n",
    "from sklearn.linear_model import LogisticRegression\n",
    "from sklearn.ensemble import RandomForestClassifier, StackingClassifier\n",
    "from sklearn.model_selection import cross_val_score, train_test_split, RandomizedSearchCV\n",
    "from sklearn.metrics import roc_auc_score, accuracy_score, confusion_matrix, roc_curve\n",
    "from sklearn.pipeline import Pipeline\n",
    "from sklearn.preprocessing import StandardScaler, OrdinalEncoder, OneHotEncoder\n",
    "from sklearn.compose import ColumnTransformer\n",
    "\n",
    "%matplotlib inline"
   ]
  },
  {
   "cell_type": "code",
   "outputs": [],
   "source": [
    "data = pd.read_csv('kaggle/Multi-Class Prediction of Obesity Risk/train.csv', index_col='id')\n",
    "data"
   ],
   "metadata": {
    "collapsed": false
   },
   "id": "1a0b295825c5bbd7",
   "execution_count": null
  },
  {
   "cell_type": "code",
   "outputs": [],
   "source": [
    "data['NObeyesdad'].value_counts()"
   ],
   "metadata": {
    "collapsed": false
   },
   "id": "cccbb91b66e111d0",
   "execution_count": null
  },
  {
   "cell_type": "code",
   "outputs": [],
   "source": [
    "# разделим сразу\n",
    "\n",
    "y = data['NObeyesdad']\n",
    "data = data.drop('NObeyesdad', axis=1)"
   ],
   "metadata": {
    "collapsed": false,
    "ExecuteTime": {
     "end_time": "2024-03-11T15:06:39.823859300Z",
     "start_time": "2024-03-11T15:06:39.812656600Z"
    }
   },
   "id": "bf840991d97a28c6",
   "execution_count": 129
  },
  {
   "cell_type": "code",
   "outputs": [],
   "source": [
    "data.isna().sum()"
   ],
   "metadata": {
    "collapsed": false
   },
   "id": "4a065406968f021b",
   "execution_count": null
  },
  {
   "cell_type": "code",
   "outputs": [],
   "source": [
    "data.duplicated().sum()"
   ],
   "metadata": {
    "collapsed": false
   },
   "id": "843af978f1b9f5fc",
   "execution_count": null
  },
  {
   "cell_type": "code",
   "outputs": [],
   "source": [
    "data.info()"
   ],
   "metadata": {
    "collapsed": false
   },
   "id": "e3419269d06f9a44",
   "execution_count": null
  },
  {
   "cell_type": "code",
   "outputs": [],
   "source": [
    "data.describe()"
   ],
   "metadata": {
    "collapsed": false
   },
   "id": "fc481c60c86fd147",
   "execution_count": null
  },
  {
   "cell_type": "code",
   "outputs": [],
   "source": [
    "cat_features = data.select_dtypes(include=['object', 'category']).columns.tolist()\n",
    "cat_features"
   ],
   "metadata": {
    "collapsed": false
   },
   "id": "e2d763e0a4055233",
   "execution_count": null
  },
  {
   "cell_type": "code",
   "outputs": [],
   "source": [
    "ohe = OneHotEncoder(sparse_output=False, drop='first', handle_unknown='ignore')\n",
    "\n",
    "# Трансформация категориальных признаков\n",
    "encoded_cat_data = ohe.fit_transform(data[cat_features])\n",
    "\n",
    "# Создание DataFrame с закодированными признаками\n",
    "encoded_cat_data_df = pd.DataFrame(encoded_cat_data, columns=ohe.get_feature_names_out(cat_features))\n",
    "\n",
    "# Объединение закодированных категориальных признаков с исходным датасетом\n",
    "data = pd.concat([data.drop(columns=cat_features), encoded_cat_data_df], axis=1)"
   ],
   "metadata": {
    "collapsed": false,
    "ExecuteTime": {
     "end_time": "2024-03-11T15:07:21.517549800Z",
     "start_time": "2024-03-11T15:07:21.492365Z"
    }
   },
   "id": "632e122ba1dfa06",
   "execution_count": 136
  },
  {
   "cell_type": "markdown",
   "source": [
    "Обработка выбросов: Некоторые числовые признаки, такие как Weight (вес) и Height (рост), могут содержать выбросы. Можно проверить наличие выбросов с помощью графиков (например, ящиков с усами) и решить, стоит ли их удалять или заменять."
   ],
   "metadata": {
    "collapsed": false
   },
   "id": "9d854278cddf1cd3"
  },
  {
   "cell_type": "code",
   "outputs": [],
   "source": [
    "# смотрим выбросы\n",
    "\n",
    "import matplotlib.pyplot as plt\n",
    "import seaborn as sns\n",
    "\n",
    "# Установка стиля графиков\n",
    "sns.set(style=\"whitegrid\")\n",
    "\n",
    "# Создание графика \"ящик с усами\" для признака Weight\n",
    "plt.figure(figsize=(8, 6))\n",
    "sns.boxplot(data=data, x='Weight')\n",
    "plt.title('Boxplot of Weight')\n",
    "plt.show()\n",
    "\n",
    "# Создание графика \"ящик с усами\" для признака Height\n",
    "plt.figure(figsize=(8, 6))\n",
    "sns.boxplot(data=data, x='Height')\n",
    "plt.title('Boxplot of Height')\n",
    "plt.show()"
   ],
   "metadata": {
    "collapsed": false
   },
   "id": "5c4fb3e404e56bd",
   "execution_count": null
  },
  {
   "cell_type": "code",
   "outputs": [],
   "source": [
    "# обработаем, закодируем таргет\n",
    "\n",
    "label_encoder = LabelEncoder()\n",
    "\n",
    "y_encoded = label_encoder.fit_transform(y)"
   ],
   "metadata": {
    "collapsed": false,
    "ExecuteTime": {
     "end_time": "2024-03-11T15:07:29.608376200Z",
     "start_time": "2024-03-11T15:07:29.598997600Z"
    }
   },
   "id": "3d122d79e7e80093",
   "execution_count": 137
  },
  {
   "cell_type": "markdown",
   "source": [
    "После обучения модели и получения предсказаний преобразуем их обратно в исходные метки\n",
    "predicted_labels = label_encoder.inverse_transform(predicted_classes)"
   ],
   "metadata": {
    "collapsed": false
   },
   "id": "2982b7858b17284"
  },
  {
   "cell_type": "code",
   "outputs": [],
   "source": [
    "# создаем новый столбец отношение массы к росту\n",
    "\n",
    "data['BMI'] = data['Weight'] / (data['Height'] ** 2)"
   ],
   "metadata": {
    "collapsed": false,
    "ExecuteTime": {
     "end_time": "2024-03-11T15:07:39.664847500Z",
     "start_time": "2024-03-11T15:07:39.654590Z"
    }
   },
   "id": "3a6b72ea09361876",
   "execution_count": 140
  },
  {
   "cell_type": "code",
   "outputs": [],
   "source": [
    "# копируем в X - просто так\n",
    "\n",
    "# Теперь X включает новый признак BMI\n",
    "X = data.copy()"
   ],
   "metadata": {
    "collapsed": false,
    "ExecuteTime": {
     "end_time": "2024-03-11T15:07:40.561156700Z",
     "start_time": "2024-03-11T15:07:40.553773800Z"
    }
   },
   "id": "4748778fc5815ae7",
   "execution_count": 141
  },
  {
   "cell_type": "code",
   "outputs": [],
   "source": [
    "# найдем все числовые столбцы\n",
    "\n",
    "num_features = data.select_dtypes(include=['int64', 'float64']).columns.tolist()\n",
    "num_features"
   ],
   "metadata": {
    "collapsed": false
   },
   "id": "fe55cc248684ba8f",
   "execution_count": null
  },
  {
   "cell_type": "code",
   "outputs": [],
   "source": [
    "# масштабирование\n",
    "scaler = StandardScaler()\n",
    "X[num_features] = scaler.fit_transform(X[num_features])"
   ],
   "metadata": {
    "collapsed": false,
    "ExecuteTime": {
     "end_time": "2024-03-11T15:07:48.937403100Z",
     "start_time": "2024-03-11T15:07:48.905630100Z"
    }
   },
   "id": "72d3b021c8a1846e",
   "execution_count": 143
  },
  {
   "cell_type": "markdown",
   "source": [
    "# ПОДБОР и ОБУЧЕНИЕ МОДЕЛИ"
   ],
   "metadata": {
    "collapsed": false
   },
   "id": "66b1ac6c93021b1d"
  },
  {
   "cell_type": "code",
   "outputs": [],
   "source": [
    "# Инициализация моделей\n",
    "logistic_regression = LogisticRegression()\n",
    "random_forest = RandomForestClassifier()\n",
    "gradient_boosting = XGBClassifier(use_label_encoder=False, eval_metric='mlogloss')"
   ],
   "metadata": {
    "collapsed": false,
    "ExecuteTime": {
     "end_time": "2024-03-11T15:07:52.997912300Z",
     "start_time": "2024-03-11T15:07:52.992082100Z"
    }
   },
   "id": "f0e0cf90635e251f",
   "execution_count": 144
  },
  {
   "cell_type": "markdown",
   "source": [
    "### Подбор параметров для Логистической регрессии"
   ],
   "metadata": {
    "collapsed": false
   },
   "id": "d6c67f438833d09"
  },
  {
   "cell_type": "code",
   "outputs": [
    {
     "name": "stdout",
     "output_type": "stream",
     "text": [
      "Лучшие параметры (логистическая регрессия): {'C': 10}\n",
      "Лучшая оценка (логистическая регрессия): 0.8665097065544483\n"
     ]
    },
    {
     "name": "stderr",
     "output_type": "stream",
     "text": [
      "C:\\Users\\user\\AppData\\Local\\Programs\\Python\\Python312\\Lib\\site-packages\\sklearn\\linear_model\\_logistic.py:469: ConvergenceWarning: lbfgs failed to converge (status=1):\n",
      "STOP: TOTAL NO. of ITERATIONS REACHED LIMIT.\n",
      "\n",
      "Increase the number of iterations (max_iter) or scale the data as shown in:\n",
      "    https://scikit-learn.org/stable/modules/preprocessing.html\n",
      "Please also refer to the documentation for alternative solver options:\n",
      "    https://scikit-learn.org/stable/modules/linear_model.html#logistic-regression\n",
      "  n_iter_i = _check_optimize_result(\n"
     ]
    }
   ],
   "source": [
    "# Подбор параметров для Логистической регрессии\n",
    "param_grid_lr = {\n",
    "    'C': [0.01, 0.1, 1, 10, 100]  # C и 5 чисел следом - это подбор коэф. регуляризации\n",
    "}\n",
    "\n",
    "# GridSearchCV для логистической регрессии\n",
    "grid_search_lr = GridSearchCV(logistic_regression, param_grid_lr, cv=5, scoring='accuracy', n_jobs=-1)\n",
    "grid_search_lr.fit(X, y_encoded)\n",
    "\n",
    "# Лучшие параметры и оценка для логистической регрессии\n",
    "print(\"Лучшие параметры (логистическая регрессия):\", grid_search_lr.best_params_)\n",
    "print(\"Лучшая оценка (логистическая регрессия):\", grid_search_lr.best_score_)"
   ],
   "metadata": {
    "collapsed": false,
    "ExecuteTime": {
     "end_time": "2024-03-11T15:07:58.287614300Z",
     "start_time": "2024-03-11T15:07:55.561869800Z"
    }
   },
   "id": "e3d160f70a26ca24",
   "execution_count": 145
  },
  {
   "cell_type": "markdown",
   "source": [
    "### Подбор параметров для Случайного леса"
   ],
   "metadata": {
    "collapsed": false
   },
   "id": "41d6acd8cc6f1e2d"
  },
  {
   "cell_type": "code",
   "outputs": [
    {
     "name": "stdout",
     "output_type": "stream",
     "text": [
      "Лучшие параметры (случайный лес): {'max_depth': 30, 'min_samples_split': 5, 'n_estimators': 200}\n",
      "Лучшая оценка (случайный лес): 0.90182132215976\n"
     ]
    }
   ],
   "source": [
    "# Параметры для случайного леса\n",
    "param_grid_rf = {\n",
    "    'n_estimators': [100, 200, 300],\n",
    "    'max_depth': [10, 20, 30],\n",
    "    'min_samples_split': [2, 5, 10]\n",
    "}\n",
    "\n",
    "# GridSearchCV для случайного леса\n",
    "grid_search_rf = GridSearchCV(random_forest, param_grid_rf, cv=5, scoring='accuracy', n_jobs=-1)\n",
    "grid_search_rf.fit(X, y_encoded)\n",
    "\n",
    "# Лучшие параметры и оценка для случайного леса\n",
    "print(\"Лучшие параметры (случайный лес):\", grid_search_rf.best_params_)\n",
    "print(\"Лучшая оценка (случайный лес):\", grid_search_rf.best_score_)"
   ],
   "metadata": {
    "collapsed": false,
    "ExecuteTime": {
     "end_time": "2024-03-11T15:09:10.871282700Z",
     "start_time": "2024-03-11T15:08:04.213519600Z"
    }
   },
   "id": "262ed031a8d6ed84",
   "execution_count": 146
  },
  {
   "cell_type": "markdown",
   "source": [
    "### Подбор параметров для градиентного бустинга"
   ],
   "metadata": {
    "collapsed": false
   },
   "id": "8e9f507e8b085d61"
  },
  {
   "cell_type": "code",
   "outputs": [
    {
     "name": "stdout",
     "output_type": "stream",
     "text": [
      "Лучшие параметры (градиентный бустинг): {'learning_rate': 0.2, 'max_depth': 3, 'n_estimators': 200}\n",
      "Лучшая оценка (градиентный бустинг): 0.9077463981332817\n"
     ]
    }
   ],
   "source": [
    "# Параметры для градиентного бустинга\n",
    "param_grid_gb = {\n",
    "    'n_estimators': [100, 200, 300],\n",
    "    'learning_rate': [0.01, 0.1, 0.2],\n",
    "    'max_depth': [3, 5, 7]\n",
    "}\n",
    "\n",
    "# GridSearchCV для градиентного бустинга\n",
    "grid_search_gb = GridSearchCV(gradient_boosting, param_grid_gb, cv=5, scoring='accuracy', n_jobs=-1)\n",
    "grid_search_gb.fit(X, y_encoded)\n",
    "\n",
    "# Лучшие параметры и оценка для градиентного бустинга\n",
    "print(\"Лучшие параметры (градиентный бустинг):\", grid_search_gb.best_params_)\n",
    "print(\"Лучшая оценка (градиентный бустинг):\", grid_search_gb.best_score_)"
   ],
   "metadata": {
    "collapsed": false,
    "ExecuteTime": {
     "end_time": "2024-03-11T15:10:02.723389200Z",
     "start_time": "2024-03-11T15:09:18.044293300Z"
    }
   },
   "id": "bbcb76116f3d68c",
   "execution_count": 147
  },
  {
   "cell_type": "markdown",
   "source": [
    "### Обучение моделей на тренировочных данных"
   ],
   "metadata": {
    "collapsed": false
   },
   "id": "6b2f64a9437044ea"
  },
  {
   "cell_type": "code",
   "outputs": [
    {
     "name": "stderr",
     "output_type": "stream",
     "text": [
      "C:\\Users\\user\\AppData\\Local\\Programs\\Python\\Python312\\Lib\\site-packages\\sklearn\\linear_model\\_logistic.py:469: ConvergenceWarning: lbfgs failed to converge (status=1):\n",
      "STOP: TOTAL NO. of ITERATIONS REACHED LIMIT.\n",
      "\n",
      "Increase the number of iterations (max_iter) or scale the data as shown in:\n",
      "    https://scikit-learn.org/stable/modules/preprocessing.html\n",
      "Please also refer to the documentation for alternative solver options:\n",
      "    https://scikit-learn.org/stable/modules/linear_model.html#logistic-regression\n",
      "  n_iter_i = _check_optimize_result(\n"
     ]
    },
    {
     "data": {
      "text/plain": "GradientBoostingClassifier(learning_rate=0.2, n_estimators=200)",
      "text/html": "<style>#sk-container-id-3 {\n  /* Definition of color scheme common for light and dark mode */\n  --sklearn-color-text: black;\n  --sklearn-color-line: gray;\n  /* Definition of color scheme for unfitted estimators */\n  --sklearn-color-unfitted-level-0: #fff5e6;\n  --sklearn-color-unfitted-level-1: #f6e4d2;\n  --sklearn-color-unfitted-level-2: #ffe0b3;\n  --sklearn-color-unfitted-level-3: chocolate;\n  /* Definition of color scheme for fitted estimators */\n  --sklearn-color-fitted-level-0: #f0f8ff;\n  --sklearn-color-fitted-level-1: #d4ebff;\n  --sklearn-color-fitted-level-2: #b3dbfd;\n  --sklearn-color-fitted-level-3: cornflowerblue;\n\n  /* Specific color for light theme */\n  --sklearn-color-text-on-default-background: var(--sg-text-color, var(--theme-code-foreground, var(--jp-content-font-color1, black)));\n  --sklearn-color-background: var(--sg-background-color, var(--theme-background, var(--jp-layout-color0, white)));\n  --sklearn-color-border-box: var(--sg-text-color, var(--theme-code-foreground, var(--jp-content-font-color1, black)));\n  --sklearn-color-icon: #696969;\n\n  @media (prefers-color-scheme: dark) {\n    /* Redefinition of color scheme for dark theme */\n    --sklearn-color-text-on-default-background: var(--sg-text-color, var(--theme-code-foreground, var(--jp-content-font-color1, white)));\n    --sklearn-color-background: var(--sg-background-color, var(--theme-background, var(--jp-layout-color0, #111)));\n    --sklearn-color-border-box: var(--sg-text-color, var(--theme-code-foreground, var(--jp-content-font-color1, white)));\n    --sklearn-color-icon: #878787;\n  }\n}\n\n#sk-container-id-3 {\n  color: var(--sklearn-color-text);\n}\n\n#sk-container-id-3 pre {\n  padding: 0;\n}\n\n#sk-container-id-3 input.sk-hidden--visually {\n  border: 0;\n  clip: rect(1px 1px 1px 1px);\n  clip: rect(1px, 1px, 1px, 1px);\n  height: 1px;\n  margin: -1px;\n  overflow: hidden;\n  padding: 0;\n  position: absolute;\n  width: 1px;\n}\n\n#sk-container-id-3 div.sk-dashed-wrapped {\n  border: 1px dashed var(--sklearn-color-line);\n  margin: 0 0.4em 0.5em 0.4em;\n  box-sizing: border-box;\n  padding-bottom: 0.4em;\n  background-color: var(--sklearn-color-background);\n}\n\n#sk-container-id-3 div.sk-container {\n  /* jupyter's `normalize.less` sets `[hidden] { display: none; }`\n     but bootstrap.min.css set `[hidden] { display: none !important; }`\n     so we also need the `!important` here to be able to override the\n     default hidden behavior on the sphinx rendered scikit-learn.org.\n     See: https://github.com/scikit-learn/scikit-learn/issues/21755 */\n  display: inline-block !important;\n  position: relative;\n}\n\n#sk-container-id-3 div.sk-text-repr-fallback {\n  display: none;\n}\n\ndiv.sk-parallel-item,\ndiv.sk-serial,\ndiv.sk-item {\n  /* draw centered vertical line to link estimators */\n  background-image: linear-gradient(var(--sklearn-color-text-on-default-background), var(--sklearn-color-text-on-default-background));\n  background-size: 2px 100%;\n  background-repeat: no-repeat;\n  background-position: center center;\n}\n\n/* Parallel-specific style estimator block */\n\n#sk-container-id-3 div.sk-parallel-item::after {\n  content: \"\";\n  width: 100%;\n  border-bottom: 2px solid var(--sklearn-color-text-on-default-background);\n  flex-grow: 1;\n}\n\n#sk-container-id-3 div.sk-parallel {\n  display: flex;\n  align-items: stretch;\n  justify-content: center;\n  background-color: var(--sklearn-color-background);\n  position: relative;\n}\n\n#sk-container-id-3 div.sk-parallel-item {\n  display: flex;\n  flex-direction: column;\n}\n\n#sk-container-id-3 div.sk-parallel-item:first-child::after {\n  align-self: flex-end;\n  width: 50%;\n}\n\n#sk-container-id-3 div.sk-parallel-item:last-child::after {\n  align-self: flex-start;\n  width: 50%;\n}\n\n#sk-container-id-3 div.sk-parallel-item:only-child::after {\n  width: 0;\n}\n\n/* Serial-specific style estimator block */\n\n#sk-container-id-3 div.sk-serial {\n  display: flex;\n  flex-direction: column;\n  align-items: center;\n  background-color: var(--sklearn-color-background);\n  padding-right: 1em;\n  padding-left: 1em;\n}\n\n\n/* Toggleable style: style used for estimator/Pipeline/ColumnTransformer box that is\nclickable and can be expanded/collapsed.\n- Pipeline and ColumnTransformer use this feature and define the default style\n- Estimators will overwrite some part of the style using the `sk-estimator` class\n*/\n\n/* Pipeline and ColumnTransformer style (default) */\n\n#sk-container-id-3 div.sk-toggleable {\n  /* Default theme specific background. It is overwritten whether we have a\n  specific estimator or a Pipeline/ColumnTransformer */\n  background-color: var(--sklearn-color-background);\n}\n\n/* Toggleable label */\n#sk-container-id-3 label.sk-toggleable__label {\n  cursor: pointer;\n  display: block;\n  width: 100%;\n  margin-bottom: 0;\n  padding: 0.5em;\n  box-sizing: border-box;\n  text-align: center;\n}\n\n#sk-container-id-3 label.sk-toggleable__label-arrow:before {\n  /* Arrow on the left of the label */\n  content: \"▸\";\n  float: left;\n  margin-right: 0.25em;\n  color: var(--sklearn-color-icon);\n}\n\n#sk-container-id-3 label.sk-toggleable__label-arrow:hover:before {\n  color: var(--sklearn-color-text);\n}\n\n/* Toggleable content - dropdown */\n\n#sk-container-id-3 div.sk-toggleable__content {\n  max-height: 0;\n  max-width: 0;\n  overflow: hidden;\n  text-align: left;\n  /* unfitted */\n  background-color: var(--sklearn-color-unfitted-level-0);\n}\n\n#sk-container-id-3 div.sk-toggleable__content.fitted {\n  /* fitted */\n  background-color: var(--sklearn-color-fitted-level-0);\n}\n\n#sk-container-id-3 div.sk-toggleable__content pre {\n  margin: 0.2em;\n  border-radius: 0.25em;\n  color: var(--sklearn-color-text);\n  /* unfitted */\n  background-color: var(--sklearn-color-unfitted-level-0);\n}\n\n#sk-container-id-3 div.sk-toggleable__content.fitted pre {\n  /* unfitted */\n  background-color: var(--sklearn-color-fitted-level-0);\n}\n\n#sk-container-id-3 input.sk-toggleable__control:checked~div.sk-toggleable__content {\n  /* Expand drop-down */\n  max-height: 200px;\n  max-width: 100%;\n  overflow: auto;\n}\n\n#sk-container-id-3 input.sk-toggleable__control:checked~label.sk-toggleable__label-arrow:before {\n  content: \"▾\";\n}\n\n/* Pipeline/ColumnTransformer-specific style */\n\n#sk-container-id-3 div.sk-label input.sk-toggleable__control:checked~label.sk-toggleable__label {\n  color: var(--sklearn-color-text);\n  background-color: var(--sklearn-color-unfitted-level-2);\n}\n\n#sk-container-id-3 div.sk-label.fitted input.sk-toggleable__control:checked~label.sk-toggleable__label {\n  background-color: var(--sklearn-color-fitted-level-2);\n}\n\n/* Estimator-specific style */\n\n/* Colorize estimator box */\n#sk-container-id-3 div.sk-estimator input.sk-toggleable__control:checked~label.sk-toggleable__label {\n  /* unfitted */\n  background-color: var(--sklearn-color-unfitted-level-2);\n}\n\n#sk-container-id-3 div.sk-estimator.fitted input.sk-toggleable__control:checked~label.sk-toggleable__label {\n  /* fitted */\n  background-color: var(--sklearn-color-fitted-level-2);\n}\n\n#sk-container-id-3 div.sk-label label.sk-toggleable__label,\n#sk-container-id-3 div.sk-label label {\n  /* The background is the default theme color */\n  color: var(--sklearn-color-text-on-default-background);\n}\n\n/* On hover, darken the color of the background */\n#sk-container-id-3 div.sk-label:hover label.sk-toggleable__label {\n  color: var(--sklearn-color-text);\n  background-color: var(--sklearn-color-unfitted-level-2);\n}\n\n/* Label box, darken color on hover, fitted */\n#sk-container-id-3 div.sk-label.fitted:hover label.sk-toggleable__label.fitted {\n  color: var(--sklearn-color-text);\n  background-color: var(--sklearn-color-fitted-level-2);\n}\n\n/* Estimator label */\n\n#sk-container-id-3 div.sk-label label {\n  font-family: monospace;\n  font-weight: bold;\n  display: inline-block;\n  line-height: 1.2em;\n}\n\n#sk-container-id-3 div.sk-label-container {\n  text-align: center;\n}\n\n/* Estimator-specific */\n#sk-container-id-3 div.sk-estimator {\n  font-family: monospace;\n  border: 1px dotted var(--sklearn-color-border-box);\n  border-radius: 0.25em;\n  box-sizing: border-box;\n  margin-bottom: 0.5em;\n  /* unfitted */\n  background-color: var(--sklearn-color-unfitted-level-0);\n}\n\n#sk-container-id-3 div.sk-estimator.fitted {\n  /* fitted */\n  background-color: var(--sklearn-color-fitted-level-0);\n}\n\n/* on hover */\n#sk-container-id-3 div.sk-estimator:hover {\n  /* unfitted */\n  background-color: var(--sklearn-color-unfitted-level-2);\n}\n\n#sk-container-id-3 div.sk-estimator.fitted:hover {\n  /* fitted */\n  background-color: var(--sklearn-color-fitted-level-2);\n}\n\n/* Specification for estimator info (e.g. \"i\" and \"?\") */\n\n/* Common style for \"i\" and \"?\" */\n\n.sk-estimator-doc-link,\na:link.sk-estimator-doc-link,\na:visited.sk-estimator-doc-link {\n  float: right;\n  font-size: smaller;\n  line-height: 1em;\n  font-family: monospace;\n  background-color: var(--sklearn-color-background);\n  border-radius: 1em;\n  height: 1em;\n  width: 1em;\n  text-decoration: none !important;\n  margin-left: 1ex;\n  /* unfitted */\n  border: var(--sklearn-color-unfitted-level-1) 1pt solid;\n  color: var(--sklearn-color-unfitted-level-1);\n}\n\n.sk-estimator-doc-link.fitted,\na:link.sk-estimator-doc-link.fitted,\na:visited.sk-estimator-doc-link.fitted {\n  /* fitted */\n  border: var(--sklearn-color-fitted-level-1) 1pt solid;\n  color: var(--sklearn-color-fitted-level-1);\n}\n\n/* On hover */\ndiv.sk-estimator:hover .sk-estimator-doc-link:hover,\n.sk-estimator-doc-link:hover,\ndiv.sk-label-container:hover .sk-estimator-doc-link:hover,\n.sk-estimator-doc-link:hover {\n  /* unfitted */\n  background-color: var(--sklearn-color-unfitted-level-3);\n  color: var(--sklearn-color-background);\n  text-decoration: none;\n}\n\ndiv.sk-estimator.fitted:hover .sk-estimator-doc-link.fitted:hover,\n.sk-estimator-doc-link.fitted:hover,\ndiv.sk-label-container:hover .sk-estimator-doc-link.fitted:hover,\n.sk-estimator-doc-link.fitted:hover {\n  /* fitted */\n  background-color: var(--sklearn-color-fitted-level-3);\n  color: var(--sklearn-color-background);\n  text-decoration: none;\n}\n\n/* Span, style for the box shown on hovering the info icon */\n.sk-estimator-doc-link span {\n  display: none;\n  z-index: 9999;\n  position: relative;\n  font-weight: normal;\n  right: .2ex;\n  padding: .5ex;\n  margin: .5ex;\n  width: min-content;\n  min-width: 20ex;\n  max-width: 50ex;\n  color: var(--sklearn-color-text);\n  box-shadow: 2pt 2pt 4pt #999;\n  /* unfitted */\n  background: var(--sklearn-color-unfitted-level-0);\n  border: .5pt solid var(--sklearn-color-unfitted-level-3);\n}\n\n.sk-estimator-doc-link.fitted span {\n  /* fitted */\n  background: var(--sklearn-color-fitted-level-0);\n  border: var(--sklearn-color-fitted-level-3);\n}\n\n.sk-estimator-doc-link:hover span {\n  display: block;\n}\n\n/* \"?\"-specific style due to the `<a>` HTML tag */\n\n#sk-container-id-3 a.estimator_doc_link {\n  float: right;\n  font-size: 1rem;\n  line-height: 1em;\n  font-family: monospace;\n  background-color: var(--sklearn-color-background);\n  border-radius: 1rem;\n  height: 1rem;\n  width: 1rem;\n  text-decoration: none;\n  /* unfitted */\n  color: var(--sklearn-color-unfitted-level-1);\n  border: var(--sklearn-color-unfitted-level-1) 1pt solid;\n}\n\n#sk-container-id-3 a.estimator_doc_link.fitted {\n  /* fitted */\n  border: var(--sklearn-color-fitted-level-1) 1pt solid;\n  color: var(--sklearn-color-fitted-level-1);\n}\n\n/* On hover */\n#sk-container-id-3 a.estimator_doc_link:hover {\n  /* unfitted */\n  background-color: var(--sklearn-color-unfitted-level-3);\n  color: var(--sklearn-color-background);\n  text-decoration: none;\n}\n\n#sk-container-id-3 a.estimator_doc_link.fitted:hover {\n  /* fitted */\n  background-color: var(--sklearn-color-fitted-level-3);\n}\n</style><div id=\"sk-container-id-3\" class=\"sk-top-container\"><div class=\"sk-text-repr-fallback\"><pre>GradientBoostingClassifier(learning_rate=0.2, n_estimators=200)</pre><b>In a Jupyter environment, please rerun this cell to show the HTML representation or trust the notebook. <br />On GitHub, the HTML representation is unable to render, please try loading this page with nbviewer.org.</b></div><div class=\"sk-container\" hidden><div class=\"sk-item\"><div class=\"sk-estimator fitted sk-toggleable\"><input class=\"sk-toggleable__control sk-hidden--visually\" id=\"sk-estimator-id-5\" type=\"checkbox\" checked><label for=\"sk-estimator-id-5\" class=\"sk-toggleable__label fitted sk-toggleable__label-arrow fitted\">&nbsp;&nbsp;GradientBoostingClassifier<a class=\"sk-estimator-doc-link fitted\" rel=\"noreferrer\" target=\"_blank\" href=\"https://scikit-learn.org/1.4/modules/generated/sklearn.ensemble.GradientBoostingClassifier.html\">?<span>Documentation for GradientBoostingClassifier</span></a><span class=\"sk-estimator-doc-link fitted\">i<span>Fitted</span></span></label><div class=\"sk-toggleable__content fitted\"><pre>GradientBoostingClassifier(learning_rate=0.2, n_estimators=200)</pre></div> </div></div></div></div>"
     },
     "execution_count": 148,
     "metadata": {},
     "output_type": "execute_result"
    }
   ],
   "source": [
    "# Обучение моделей с лучшими параметрами\n",
    "logistic_regression_best = LogisticRegression(C=10)\n",
    "random_forest_best = RandomForestClassifier(max_depth=20, min_samples_split=2, n_estimators=200)\n",
    "gradient_boosting_best = GradientBoostingClassifier(learning_rate=0.2, max_depth=3, n_estimators=200)\n",
    "\n",
    "logistic_regression_best.fit(X, y_encoded)\n",
    "random_forest_best.fit(X, y_encoded)\n",
    "gradient_boosting_best.fit(X, y_encoded)"
   ],
   "metadata": {
    "collapsed": false,
    "ExecuteTime": {
     "end_time": "2024-03-11T15:11:10.101249900Z",
     "start_time": "2024-03-11T15:10:29.312688900Z"
    }
   },
   "id": "3ca6d486e87f32f7",
   "execution_count": 148
  },
  {
   "cell_type": "markdown",
   "source": [
    "### Загрузка и предобработка тестового датасета"
   ],
   "metadata": {
    "collapsed": false
   },
   "id": "6f0cd05168e96ba8"
  },
  {
   "cell_type": "code",
   "outputs": [],
   "source": [
    "# Загрузка тестового датасета\n",
    "test_data = pd.read_csv('kaggle/Multi-Class Prediction of Obesity Risk/test.csv', index_col='id')"
   ],
   "metadata": {
    "collapsed": false,
    "ExecuteTime": {
     "end_time": "2024-03-11T15:23:33.278306800Z",
     "start_time": "2024-03-11T15:23:33.252416800Z"
    }
   },
   "id": "d539525a0f01e455",
   "execution_count": 166
  },
  {
   "cell_type": "code",
   "outputs": [
    {
     "name": "stderr",
     "output_type": "stream",
     "text": [
      "C:\\Users\\user\\AppData\\Local\\Programs\\Python\\Python312\\Lib\\site-packages\\sklearn\\preprocessing\\_encoders.py:241: UserWarning: Found unknown categories in columns [6] during transform. These unknown categories will be encoded as all zeros\n",
      "  warnings.warn(\n"
     ]
    }
   ],
   "source": [
    "from sklearn.impute import SimpleImputer\n",
    "\n",
    "# Предобработка тестового датасета (аналогично тренировочному)\n",
    "encoded_cat_test_data = ohe.transform(test_data[cat_features])\n",
    "encoded_cat_test_data_df = pd.DataFrame(encoded_cat_test_data, columns=ohe.get_feature_names_out(cat_features), index=test_data.index)\n",
    "test_data = pd.concat([test_data.drop(columns=cat_features), encoded_cat_test_data_df], axis=1)\n",
    "test_data['BMI'] = test_data['Weight'] / (test_data['Height'] ** 2)\n",
    "\n",
    "# Импьютация для заполнения пропущенных значений\n",
    "imputer = SimpleImputer(strategy='mean')\n",
    "test_data[num_features] = imputer.fit_transform(test_data[num_features])\n",
    "\n",
    "# Масштабирование числовых признаков\n",
    "test_data[num_features] = scaler.transform(test_data[num_features])"
   ],
   "metadata": {
    "collapsed": false,
    "ExecuteTime": {
     "end_time": "2024-03-11T15:23:34.698194Z",
     "start_time": "2024-03-11T15:23:34.661078Z"
    }
   },
   "id": "ce58df81c8451aae",
   "execution_count": 167
  },
  {
   "cell_type": "code",
   "outputs": [],
   "source": [
    "# Предсказания моделей\n",
    "predictions_lr = logistic_regression_best.predict(test_data)\n",
    "predictions_rf = random_forest_best.predict(test_data)\n",
    "predictions_gb = gradient_boosting_best.predict(test_data)\n",
    "\n",
    "# Преобразование предсказаний обратно в исходные метки\n",
    "predicted_labels_lr = label_encoder.inverse_transform(predictions_lr)\n",
    "predicted_labels_rf = label_encoder.inverse_transform(predictions_rf)\n",
    "predicted_labels_gb = label_encoder.inverse_transform(predictions_gb)"
   ],
   "metadata": {
    "collapsed": false,
    "ExecuteTime": {
     "end_time": "2024-03-11T15:23:38.367581Z",
     "start_time": "2024-03-11T15:23:37.801826700Z"
    }
   },
   "id": "aca10f3e30e9ad7",
   "execution_count": 168
  },
  {
   "cell_type": "code",
   "outputs": [],
   "source": [
    "# Сохранение предсказаний логистической регрессии\n",
    "submission_lr = pd.DataFrame({'id': test_data.index, 'NObeyesdad': predicted_labels_lr})\n",
    "submission_lr.to_csv('submission_lr.csv', index=False)\n",
    "\n",
    "# Сохранение предсказаний случайного леса\n",
    "submission_rf = pd.DataFrame({'id': test_data.index, 'NObeyesdad': predicted_labels_rf})\n",
    "submission_rf.to_csv('submission_rf.csv', index=False)\n",
    "\n",
    "# Сохранение предсказаний градиентного бустинга\n",
    "submission_gb = pd.DataFrame({'id': test_data.index, 'NObeyesdad': predicted_labels_gb})\n",
    "submission_gb.to_csv('submission_gb.csv', index=False)"
   ],
   "metadata": {
    "collapsed": false,
    "ExecuteTime": {
     "end_time": "2024-03-11T15:23:40.398421500Z",
     "start_time": "2024-03-11T15:23:40.364748600Z"
    }
   },
   "id": "f8383094ac21d365",
   "execution_count": 169
  },
  {
   "cell_type": "code",
   "outputs": [],
   "source": [],
   "metadata": {
    "collapsed": false
   },
   "id": "1cfdcea7051830f8"
  },
  {
   "cell_type": "code",
   "outputs": [],
   "source": [],
   "metadata": {
    "collapsed": false
   },
   "id": "ae42b9d04e010372"
  },
  {
   "cell_type": "code",
   "outputs": [],
   "source": [],
   "metadata": {
    "collapsed": false
   },
   "id": "2855d98be90a4224"
  },
  {
   "cell_type": "code",
   "outputs": [],
   "source": [],
   "metadata": {
    "collapsed": false
   },
   "id": "7269e1cf6e3cb0ad"
  },
  {
   "cell_type": "code",
   "outputs": [],
   "source": [],
   "metadata": {
    "collapsed": false
   },
   "id": "afd2e79d649803a5"
  },
  {
   "cell_type": "code",
   "outputs": [],
   "source": [],
   "metadata": {
    "collapsed": false
   },
   "id": "e8adad361cb2ccef"
  },
  {
   "cell_type": "markdown",
   "source": [
    "ПЛАН:\n",
    "\n",
    "Загрузка тренировочного датасета.\n",
    "Проверка данных на наличие пропущенных значений и дубликатов.\n",
    "Кодирование категориальных признаков.\n",
    "Разделение датасета на признаки (X) и целевую переменную (y).\n",
    "Масштабирование числовых признаков.\n",
    "\n",
    "Выбор моделей для обучения (в данном случае логистическая регрессия, случайный лес и градиентный бустинг).\n",
    "Подбор параметров для моделей с использованием кросс-валидации и GridSearchCV (в данном случае выполнено только для логистической регрессии).\n",
    "Обучение моделей на тренировочных данных.\n",
    "Загрузка тестового датасета и проверка на наличие категорий, которых нет в тренировочном датасете. Заменить все NaN.\n",
    "Предобработка тестового датасета (аналогично тренировочному датасету).\n",
    "Сделать предсказания на тестовых данных с использованием обученных моделей.\n",
    "Сохранение предсказаний в формате CSV для отправки в Kaggle."
   ],
   "metadata": {
    "collapsed": false
   },
   "id": "20e5eabe36690353"
  },
  {
   "cell_type": "code",
   "outputs": [],
   "source": [],
   "metadata": {
    "collapsed": false
   },
   "id": "6670534e4d6996b"
  },
  {
   "cell_type": "markdown",
   "source": [
    "Привет, я начинающий специалист по МЛ. Собираюсь справится с тренировочным соревнованием на Kaggle. Вот описание на англ. ниже. А также тренировочный датасет я прикрепил изучи его. на нем обучим, его делить на тестовую выборку ненадо тк у меня есть отдельно тестовый датасет test.csv\n",
    "\n",
    "Пожалуйста думай внимательно шаг за шагом, будь как хороший специалист который не упускает важные детали. с начала нужно обработать дата сет, убрать пустые значения, найти повторы и тп.\n",
    "\n",
    "Дальше мне необходимо выбрать 3 модели логистическая регрессия, случайный лес и градиентный бустинг и помоги мне используя кросс валидацию, метод pipeline перебрать параметры grid_params, также используя gridsearch - найти лучшие параметры и на них сделать предсказание X_test в конце выгрузить результат в виде csv файла sample_submission:\n",
    "\n",
    "\n",
    "\n",
    "Submission File\n",
    "For each id row in the test set, you must predict the class value of the target, NObeyesdad. The file should contain a header and have the following format:\n",
    "\n",
    "id,NObeyesdad\n",
    "20758,Normal_Weight\n",
    "20759,Normal_Weight\n",
    "20760,Normal_Weight\n",
    "etc.\n",
    "\n",
    "\n",
    "\n",
    "вот описание соревнования:\n",
    "\n",
    "Overview\n",
    "Welcome to the 2024 Kaggle Playground Series! We plan to continue in the spirit of previous playgrounds, providing interesting an approachable datasets for our community to practice their machine learning skills, and anticipate a competition each month.\n",
    "\n",
    "Your Goal: The goal of this competition is to use various factors to predict obesity risk in individuals, which is related to cardiovascular disease. Good luck!\n",
    "\n",
    "Evaluation\n",
    "Submissions are evaluated using the accuracy score.\n",
    "\n",
    "About the Tabular Playground Series\n",
    "The goal of the Tabular Playground Series is to provide the Kaggle community with a variety of fairly light-weight challenges that can be used to learn and sharpen skills in different aspects of machine learning and data science. The duration of each competition will generally only last a few weeks, and may have longer or shorter durations depending on the challenge. The challenges will generally use fairly light-weight datasets that are synthetically generated from real-world data, and will provide an opportunity to quickly iterate through various model and feature engineering ideas, create visualizations, etc.\n",
    "\n",
    "Synthetically-Generated Datasets\n",
    "Using synthetic data for Playground competitions allows us to strike a balance between having real-world data (with named features) and ensuring test labels are not publicly available. This allows us to host competitions with more interesting datasets than in the past. While there are still challenges with synthetic data generation, the state-of-the-art is much better now than when we started the Tabular Playground Series two years ago, and that goal is to produce datasets that have far fewer artifacts. Please feel free to give us feedback on the datasets for the different competitions so that we can continue to improve!\n",
    "\n",
    "\n",
    "\n",
    "вот мой план:\n",
    "\n",
    "Загрузка тренировочного датасета.\n",
    "Проверка данных на наличие пропущенных значений и дубликатов.\n",
    "Кодирование категориальных признаков.\n",
    "Разделение датасета на признаки (X) и целевую переменную (y).\n",
    "Масштабирование числовых признаков.\n",
    "Выбор моделей для обучения (в данном случае логистическая регрессия, случайный лес и градиентный бустинг).\n",
    "Подбор параметров для моделей с использованием кросс-валидации и GridSearchCV (в данном случае выполнено только для логистической регрессии).\n",
    "Обучение моделей на тренировочных данных.\n",
    "Загрузка тестового датасета и проверка на наличие категорий, которых нет в тренировочном датасете. Заменить все NaN.\n",
    "Предобработка тестового датасета (аналогично тренировочному датасету).\n",
    "Сделать предсказания на тестовых данных с использованием обученных моделей.\n",
    "Сохранение предсказаний в формате CSV для отправки в Kaggle.\n",
    "\n",
    "подумай хорошо, не торопись, вдохни полную грудь и поехали по шагам, внимательно, я дам тебе чаевые 20$"
   ],
   "metadata": {
    "collapsed": false
   },
   "id": "f3ed80974c7c67ed"
  },
  {
   "cell_type": "code",
   "outputs": [],
   "source": [],
   "metadata": {
    "collapsed": false
   },
   "id": "85ab103083b9ff0c"
  },
  {
   "cell_type": "markdown",
   "source": [
    "Вот несколько способов, как ты можешь проверить тестовый датасет на наличие категорий, которых нет в тренировочном датасете:\n",
    "\n",
    "1. Сравнение уникальных значений в категориальных признаках\n",
    "Для каждого категориального признака ты можешь сравнить уникальные значения в тренировочном и тестовом датасетах:"
   ],
   "metadata": {
    "collapsed": false
   },
   "id": "6569a0a972d7db1"
  },
  {
   "cell_type": "code",
   "outputs": [],
   "source": [
    "for feature in cat_features:\n",
    "    train_unique = set(data[feature].unique())\n",
    "    test_unique = set(test_data[feature].unique())\n",
    "    \n",
    "    # Находим значения, которые есть в тестовом, но нет в тренировочном датасете\n",
    "    diff = test_unique - train_unique\n",
    "    if diff:\n",
    "        print(f\"В признаке '{feature}' следующие категории есть в тестовом датасете, но отсутствуют в тренировочном: {diff}\")\n",
    "    else:\n",
    "        print(f\"В признаке '{feature}' нет расхождений в категориях между тренировочным и тестовым датасетами.\")"
   ],
   "metadata": {
    "collapsed": false
   },
   "id": "5753bc643285d53f"
  },
  {
   "cell_type": "markdown",
   "source": [
    "2. Использование OneHotEncoder с параметром handle_unknown='error'\n",
    "Ты можешь использовать OneHotEncoder с параметром handle_unknown='error', чтобы вызвать ошибку, если в тестовом датасете обнаружатся неизвестные категории:"
   ],
   "metadata": {
    "collapsed": false
   },
   "id": "81c3141fbf3b03f7"
  },
  {
   "cell_type": "code",
   "outputs": [],
   "source": [
    "from sklearn.preprocessing import OneHotEncoder\n",
    "\n",
    "ohe = OneHotEncoder(sparse_output=False, drop='first', handle_unknown='error')\n",
    "ohe.fit(data[cat_features])\n",
    "\n",
    "try:\n",
    "    ohe.transform(test_data[cat_features])\n",
    "    print(\"В тестовом датасете не обнаружено неизвестных категорий.\")\n",
    "except ValueError as e:\n",
    "    print(\"Обнаружены неизвестные категории в тестовом датасете:\", e)"
   ],
   "metadata": {
    "collapsed": false
   },
   "id": "130966ad122aa4a1"
  },
  {
   "cell_type": "markdown",
   "source": [
    "3. Использование pandas.get_dummies с параметром dummy_na=True\n",
    "Если ты используешь pandas.get_dummies для кодирования категориальных признаков, ты можешь установить параметр dummy_na=True, чтобы создать дополнительный столбец для NaN значений. Если в тестовом датасете есть категории, которых нет в тренировочном датасете, они будут закодированы как NaN:"
   ],
   "metadata": {
    "collapsed": false
   },
   "id": "5df4e7f3a3e3e70f"
  },
  {
   "cell_type": "code",
   "outputs": [],
   "source": [
    "train_dummies = pd.get_dummies(data[cat_features], drop_first=True, dummy_na=True)\n",
    "test_dummies = pd.get_dummies(test_data[cat_features], drop_first=True, dummy_na=True)\n",
    "\n",
    "# Проверка на наличие столбцов с NaN в тестовом датасете\n",
    "nan_columns = [col for col in test_dummies.columns if col.endswith('_nan')]\n",
    "if nan_columns:\n",
    "    print(\"В тестовом датасете обнаружены неизвестные категории, закодированные как NaN:\", nan_columns)\n",
    "else:\n",
    "    print(\"В тестовом датасете не обнаружено неизвестных категорий.\")"
   ],
   "metadata": {
    "collapsed": false
   },
   "id": "2741c86d474b3eef"
  },
  {
   "cell_type": "code",
   "outputs": [],
   "source": [],
   "metadata": {
    "collapsed": false
   },
   "id": "3aa951f5b9954163"
  },
  {
   "cell_type": "code",
   "outputs": [],
   "source": [],
   "metadata": {
    "collapsed": false
   },
   "id": "c2b99d94f5f4db7a"
  },
  {
   "cell_type": "code",
   "outputs": [],
   "source": [],
   "metadata": {
    "collapsed": false
   },
   "id": "a5a9bd06036875ca"
  },
  {
   "cell_type": "code",
   "outputs": [],
   "source": [],
   "metadata": {
    "collapsed": false
   },
   "id": "95d2ccd6e3f5ae2b"
  },
  {
   "cell_type": "code",
   "outputs": [],
   "source": [],
   "metadata": {
    "collapsed": false
   },
   "id": "301e391ad5c86630"
  },
  {
   "cell_type": "code",
   "outputs": [],
   "source": [],
   "metadata": {
    "collapsed": false
   },
   "id": "a5d98592510edd21"
  },
  {
   "cell_type": "code",
   "outputs": [],
   "source": [],
   "metadata": {
    "collapsed": false
   },
   "id": "6b448e957ad7e2fe"
  },
  {
   "cell_type": "code",
   "outputs": [],
   "source": [],
   "metadata": {
    "collapsed": false
   },
   "id": "40c1e186a0937c1e"
  }
 ],
 "metadata": {
  "kernelspec": {
   "display_name": "Python 3",
   "language": "python",
   "name": "python3"
  },
  "language_info": {
   "codemirror_mode": {
    "name": "ipython",
    "version": 2
   },
   "file_extension": ".py",
   "mimetype": "text/x-python",
   "name": "python",
   "nbconvert_exporter": "python",
   "pygments_lexer": "ipython2",
   "version": "2.7.6"
  }
 },
 "nbformat": 4,
 "nbformat_minor": 5
}
