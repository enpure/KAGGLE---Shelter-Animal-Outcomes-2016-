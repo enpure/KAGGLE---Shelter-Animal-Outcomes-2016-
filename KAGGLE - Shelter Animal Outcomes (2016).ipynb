{
 "cells": [
  {
   "cell_type": "code",
   "outputs": [],
   "source": [
    "# %reset"
   ],
   "metadata": {
    "collapsed": false,
    "ExecuteTime": {
     "end_time": "2024-03-06T17:34:10.369760700Z",
     "start_time": "2024-03-06T17:34:10.126133200Z"
    }
   },
   "id": "6a5b0cbc81481d71",
   "execution_count": 2
  },
  {
   "cell_type": "code",
   "outputs": [],
   "source": [],
   "metadata": {
    "collapsed": false,
    "ExecuteTime": {
     "end_time": "2024-03-06T17:34:10.385113100Z",
     "start_time": "2024-03-06T17:34:10.372758900Z"
    }
   },
   "id": "177fb0c199f7352a",
   "execution_count": 2
  },
  {
   "cell_type": "code",
   "execution_count": 3,
   "id": "initial_id",
   "metadata": {
    "collapsed": true,
    "ExecuteTime": {
     "end_time": "2024-03-06T17:34:10.643213800Z",
     "start_time": "2024-03-06T17:34:10.387113900Z"
    }
   },
   "outputs": [],
   "source": [
    "import pandas as pd\n",
    "import matplotlib.pyplot as plt\n",
    "import numpy as np\n",
    "import seaborn as sns\n",
    "import plotly.express as px\n",
    "\n",
    "from catboost import CatBoostClassifier\n",
    "from sklearn.linear_model import LogisticRegression\n",
    "from sklearn.ensemble import RandomForestClassifier, StackingClassifier\n",
    "from sklearn.model_selection import cross_val_score, train_test_split, RandomizedSearchCV\n",
    "from sklearn.metrics import roc_auc_score, accuracy_score, confusion_matrix, roc_curve\n",
    "from sklearn.pipeline import Pipeline\n",
    "from sklearn.preprocessing import StandardScaler, OrdinalEncoder, OneHotEncoder\n",
    "from sklearn.compose import ColumnTransformer\n",
    "\n",
    "%matplotlib inline"
   ]
  },
  {
   "cell_type": "code",
   "outputs": [
    {
     "data": {
      "text/plain": "      AnimalID     Name             DateTime      OutcomeType OutcomeSubtype  \\\n0      A671945  Hambone  2014-02-12 18:22:00  Return_to_owner            NaN   \n1      A656520    Emily  2013-10-13 12:44:00       Euthanasia      Suffering   \n2      A686464   Pearce  2015-01-31 12:28:00         Adoption         Foster   \n3      A683430      NaN  2014-07-11 19:09:00         Transfer        Partner   \n4      A667013      NaN  2013-11-15 12:52:00         Transfer        Partner   \n...        ...      ...                  ...              ...            ...   \n26724  A702446      NaN  2015-05-14 11:56:00         Transfer        Partner   \n26725  A718934      NaN  2016-01-20 18:59:00         Transfer           SCRP   \n26726  A698128     Zeus  2015-03-09 13:33:00         Adoption            NaN   \n26727  A677478      NaN  2014-04-27 12:22:00         Transfer        Partner   \n26728  A706629      NaN  2015-07-02 09:00:00         Transfer           SCRP   \n\n      AnimalType SexuponOutcome AgeuponOutcome                        Breed  \\\n0            Dog  Neutered Male         1 year        Shetland Sheepdog Mix   \n1            Cat  Spayed Female         1 year       Domestic Shorthair Mix   \n2            Dog  Neutered Male        2 years                 Pit Bull Mix   \n3            Cat    Intact Male        3 weeks       Domestic Shorthair Mix   \n4            Dog  Neutered Male        2 years  Lhasa Apso/Miniature Poodle   \n...          ...            ...            ...                          ...   \n26724        Cat    Intact Male        1 month       Domestic Shorthair Mix   \n26725        Cat  Spayed Female       3 months       Domestic Shorthair Mix   \n26726        Dog  Neutered Male        4 years      Old English Bulldog Mix   \n26727        Cat    Intact Male        4 weeks       Domestic Shorthair Mix   \n26728        Cat    Intact Male         1 year       Domestic Shorthair Mix   \n\n                   Color  \n0            Brown/White  \n1            Cream Tabby  \n2             Blue/White  \n3             Blue Cream  \n4                    Tan  \n...                  ...  \n26724  Brown Tabby/White  \n26725        Brown Tabby  \n26726          White/Tan  \n26727              Black  \n26728  Brown Tabby/White  \n\n[26729 rows x 10 columns]",
      "text/html": "<div>\n<style scoped>\n    .dataframe tbody tr th:only-of-type {\n        vertical-align: middle;\n    }\n\n    .dataframe tbody tr th {\n        vertical-align: top;\n    }\n\n    .dataframe thead th {\n        text-align: right;\n    }\n</style>\n<table border=\"1\" class=\"dataframe\">\n  <thead>\n    <tr style=\"text-align: right;\">\n      <th></th>\n      <th>AnimalID</th>\n      <th>Name</th>\n      <th>DateTime</th>\n      <th>OutcomeType</th>\n      <th>OutcomeSubtype</th>\n      <th>AnimalType</th>\n      <th>SexuponOutcome</th>\n      <th>AgeuponOutcome</th>\n      <th>Breed</th>\n      <th>Color</th>\n    </tr>\n  </thead>\n  <tbody>\n    <tr>\n      <th>0</th>\n      <td>A671945</td>\n      <td>Hambone</td>\n      <td>2014-02-12 18:22:00</td>\n      <td>Return_to_owner</td>\n      <td>NaN</td>\n      <td>Dog</td>\n      <td>Neutered Male</td>\n      <td>1 year</td>\n      <td>Shetland Sheepdog Mix</td>\n      <td>Brown/White</td>\n    </tr>\n    <tr>\n      <th>1</th>\n      <td>A656520</td>\n      <td>Emily</td>\n      <td>2013-10-13 12:44:00</td>\n      <td>Euthanasia</td>\n      <td>Suffering</td>\n      <td>Cat</td>\n      <td>Spayed Female</td>\n      <td>1 year</td>\n      <td>Domestic Shorthair Mix</td>\n      <td>Cream Tabby</td>\n    </tr>\n    <tr>\n      <th>2</th>\n      <td>A686464</td>\n      <td>Pearce</td>\n      <td>2015-01-31 12:28:00</td>\n      <td>Adoption</td>\n      <td>Foster</td>\n      <td>Dog</td>\n      <td>Neutered Male</td>\n      <td>2 years</td>\n      <td>Pit Bull Mix</td>\n      <td>Blue/White</td>\n    </tr>\n    <tr>\n      <th>3</th>\n      <td>A683430</td>\n      <td>NaN</td>\n      <td>2014-07-11 19:09:00</td>\n      <td>Transfer</td>\n      <td>Partner</td>\n      <td>Cat</td>\n      <td>Intact Male</td>\n      <td>3 weeks</td>\n      <td>Domestic Shorthair Mix</td>\n      <td>Blue Cream</td>\n    </tr>\n    <tr>\n      <th>4</th>\n      <td>A667013</td>\n      <td>NaN</td>\n      <td>2013-11-15 12:52:00</td>\n      <td>Transfer</td>\n      <td>Partner</td>\n      <td>Dog</td>\n      <td>Neutered Male</td>\n      <td>2 years</td>\n      <td>Lhasa Apso/Miniature Poodle</td>\n      <td>Tan</td>\n    </tr>\n    <tr>\n      <th>...</th>\n      <td>...</td>\n      <td>...</td>\n      <td>...</td>\n      <td>...</td>\n      <td>...</td>\n      <td>...</td>\n      <td>...</td>\n      <td>...</td>\n      <td>...</td>\n      <td>...</td>\n    </tr>\n    <tr>\n      <th>26724</th>\n      <td>A702446</td>\n      <td>NaN</td>\n      <td>2015-05-14 11:56:00</td>\n      <td>Transfer</td>\n      <td>Partner</td>\n      <td>Cat</td>\n      <td>Intact Male</td>\n      <td>1 month</td>\n      <td>Domestic Shorthair Mix</td>\n      <td>Brown Tabby/White</td>\n    </tr>\n    <tr>\n      <th>26725</th>\n      <td>A718934</td>\n      <td>NaN</td>\n      <td>2016-01-20 18:59:00</td>\n      <td>Transfer</td>\n      <td>SCRP</td>\n      <td>Cat</td>\n      <td>Spayed Female</td>\n      <td>3 months</td>\n      <td>Domestic Shorthair Mix</td>\n      <td>Brown Tabby</td>\n    </tr>\n    <tr>\n      <th>26726</th>\n      <td>A698128</td>\n      <td>Zeus</td>\n      <td>2015-03-09 13:33:00</td>\n      <td>Adoption</td>\n      <td>NaN</td>\n      <td>Dog</td>\n      <td>Neutered Male</td>\n      <td>4 years</td>\n      <td>Old English Bulldog Mix</td>\n      <td>White/Tan</td>\n    </tr>\n    <tr>\n      <th>26727</th>\n      <td>A677478</td>\n      <td>NaN</td>\n      <td>2014-04-27 12:22:00</td>\n      <td>Transfer</td>\n      <td>Partner</td>\n      <td>Cat</td>\n      <td>Intact Male</td>\n      <td>4 weeks</td>\n      <td>Domestic Shorthair Mix</td>\n      <td>Black</td>\n    </tr>\n    <tr>\n      <th>26728</th>\n      <td>A706629</td>\n      <td>NaN</td>\n      <td>2015-07-02 09:00:00</td>\n      <td>Transfer</td>\n      <td>SCRP</td>\n      <td>Cat</td>\n      <td>Intact Male</td>\n      <td>1 year</td>\n      <td>Domestic Shorthair Mix</td>\n      <td>Brown Tabby/White</td>\n    </tr>\n  </tbody>\n</table>\n<p>26729 rows × 10 columns</p>\n</div>"
     },
     "execution_count": 4,
     "metadata": {},
     "output_type": "execute_result"
    }
   ],
   "source": [
    "data = pd.read_csv('csv/animal_train.csv')\n",
    "data"
   ],
   "metadata": {
    "collapsed": false,
    "ExecuteTime": {
     "end_time": "2024-03-06T17:34:10.686016600Z",
     "start_time": "2024-03-06T17:34:10.629212Z"
    }
   },
   "id": "4c9f0a66f95b198",
   "execution_count": 4
  },
  {
   "cell_type": "markdown",
   "source": [],
   "metadata": {
    "collapsed": false
   },
   "id": "9c48ea3a369b44c1"
  },
  {
   "cell_type": "markdown",
   "source": [
    "# 1. Обработка"
   ],
   "metadata": {
    "collapsed": false
   },
   "id": "f7e1c7bdf987fff9"
  },
  {
   "cell_type": "markdown",
   "source": [
    "1. Обработка пропущенных значений: В столбцах Name и OutcomeSubtype много пропущенных значений. Вы можете решить удалить столбец OutcomeSubtype, так как он может быть не очень важен для предсказания основного результата. Для столбца Name вы можете создать новую бинарную переменную, указывающую, есть ли имя у животного (1) или нет (0), поскольку наличие имени может влиять на исход приюта. Пропущенные значения в SexuponOutcome и AgeuponOutcome можно заполнить наиболее частыми значениями или средними, в зависимости от контекста.\n",
    "\n",
    "2. Преобразование типов данных: Преобразуйте столбец DateTime в формат даты и времени, чтобы можно было извлекать полезные признаки, такие как день недели, месяц или время года.\n",
    "\n",
    "3. Инжиниринг признаков: Создайте новые признаки, которые могут быть полезны для модели. Например, вы можете преобразовать AgeuponOutcome в числовой формат (количество дней или лет). Также можно извлечь информацию из породы (Breed) и цвета (Color), возможно, уменьшив количество уникальных категорий или выделив основные породы и цвета.\n",
    "\n",
    "4. Кодирование категориальных переменных: Поскольку большинство ваших столбцов являются категориальными (тип object), вам нужно будет закодировать их перед обучением модели. Вы можете использовать one-hot encoding или label encoding в зависимости от количества уникальных значений в каждом столбце.\n",
    "\n",
    "5. Разделение данных: Разделите данные на обучающую и тестовую выборки для проверки производительности модели."
   ],
   "metadata": {
    "collapsed": false
   },
   "id": "4053cdad98ca1fd8"
  },
  {
   "cell_type": "code",
   "outputs": [
    {
     "data": {
      "text/plain": "AnimalID              0\nName               7691\nDateTime              0\nOutcomeType           0\nOutcomeSubtype    13612\nAnimalType            0\nSexuponOutcome        1\nAgeuponOutcome       18\nBreed                 0\nColor                 0\ndtype: int64"
     },
     "execution_count": 5,
     "metadata": {},
     "output_type": "execute_result"
    }
   ],
   "source": [
    "data.isna().sum()"
   ],
   "metadata": {
    "collapsed": false,
    "ExecuteTime": {
     "end_time": "2024-03-06T17:34:10.700781500Z",
     "start_time": "2024-03-06T17:34:10.675650400Z"
    }
   },
   "id": "e598ee9365bcd298",
   "execution_count": 5
  },
  {
   "cell_type": "code",
   "outputs": [
    {
     "name": "stdout",
     "output_type": "stream",
     "text": [
      "<class 'pandas.core.frame.DataFrame'>\n",
      "RangeIndex: 26729 entries, 0 to 26728\n",
      "Data columns (total 10 columns):\n",
      " #   Column          Non-Null Count  Dtype \n",
      "---  ------          --------------  ----- \n",
      " 0   AnimalID        26729 non-null  object\n",
      " 1   Name            19038 non-null  object\n",
      " 2   DateTime        26729 non-null  object\n",
      " 3   OutcomeType     26729 non-null  object\n",
      " 4   OutcomeSubtype  13117 non-null  object\n",
      " 5   AnimalType      26729 non-null  object\n",
      " 6   SexuponOutcome  26728 non-null  object\n",
      " 7   AgeuponOutcome  26711 non-null  object\n",
      " 8   Breed           26729 non-null  object\n",
      " 9   Color           26729 non-null  object\n",
      "dtypes: object(10)\n",
      "memory usage: 2.0+ MB\n"
     ]
    }
   ],
   "source": [
    "data.info()"
   ],
   "metadata": {
    "collapsed": false,
    "ExecuteTime": {
     "end_time": "2024-03-06T17:34:10.750198900Z",
     "start_time": "2024-03-06T17:34:10.687018300Z"
    }
   },
   "id": "927274537a68188e",
   "execution_count": 6
  },
  {
   "cell_type": "code",
   "outputs": [],
   "source": [
    "data = data.drop('OutcomeSubtype', axis=1)"
   ],
   "metadata": {
    "collapsed": false,
    "ExecuteTime": {
     "end_time": "2024-03-06T17:34:10.765197700Z",
     "start_time": "2024-03-06T17:34:10.701782500Z"
    }
   },
   "id": "ca517c4831a2d73b",
   "execution_count": 7
  },
  {
   "cell_type": "code",
   "outputs": [],
   "source": [
    "# Создание новой бинарной переменной для столбца Name\n",
    "data['HasName'] = data['Name'].apply(lambda x: 0 if pd.isnull(x) else 1)"
   ],
   "metadata": {
    "collapsed": false,
    "ExecuteTime": {
     "end_time": "2024-03-06T17:34:10.786555100Z",
     "start_time": "2024-03-06T17:34:10.707021900Z"
    }
   },
   "id": "7fc87c9d51007a34",
   "execution_count": 8
  },
  {
   "cell_type": "code",
   "outputs": [],
   "source": [
    "data = data.drop('Name', axis=1)"
   ],
   "metadata": {
    "collapsed": false,
    "ExecuteTime": {
     "end_time": "2024-03-06T17:34:10.788577Z",
     "start_time": "2024-03-06T17:34:10.718365400Z"
    }
   },
   "id": "39e0f0a8f1fee791",
   "execution_count": 9
  },
  {
   "cell_type": "code",
   "outputs": [],
   "source": [
    "# Заполнение пропущенных значений в SexuponOutcome и AgeuponOutcome наиболее частым значением\n",
    "data['SexuponOutcome'] = data['SexuponOutcome'].fillna(data['SexuponOutcome'].mode()[0])"
   ],
   "metadata": {
    "collapsed": false,
    "ExecuteTime": {
     "end_time": "2024-03-06T17:34:10.831480600Z",
     "start_time": "2024-03-06T17:34:10.723850300Z"
    }
   },
   "id": "de065169beafce40",
   "execution_count": 10
  },
  {
   "cell_type": "code",
   "outputs": [],
   "source": [
    "# Для преобразования возраста животных из формата строк в числовой формат (в днях), вы можете использовать следующий код:\n",
    "def age_to_days(age_str):\n",
    "    if pd.isnull(age_str):\n",
    "        return None\n",
    "    num, unit = age_str.split(' ')\n",
    "    num = int(num)\n",
    "    if 'year' in unit:\n",
    "        return num * 365\n",
    "    elif 'month' in unit:\n",
    "        return num * 30\n",
    "    elif 'week' in unit:\n",
    "        return num * 7\n",
    "    elif 'day' in unit:\n",
    "        return num\n",
    "    else:\n",
    "        return None\n",
    "\n",
    "# Преобразование возраста из строки в числовой формат (в днях)\n",
    "data['AgeuponOutcome'] = data['AgeuponOutcome'].apply(age_to_days)"
   ],
   "metadata": {
    "collapsed": false,
    "ExecuteTime": {
     "end_time": "2024-03-06T17:34:10.833485Z",
     "start_time": "2024-03-06T17:34:10.743347300Z"
    }
   },
   "id": "cf3a049b3d3dbfe7",
   "execution_count": 11
  },
  {
   "cell_type": "code",
   "outputs": [],
   "source": [
    "# заполняем пустые значения средним значением по столбцу\n",
    "data['AgeuponOutcome'] = data['AgeuponOutcome'].fillna(data['AgeuponOutcome'].mean())"
   ],
   "metadata": {
    "collapsed": false,
    "ExecuteTime": {
     "end_time": "2024-03-06T17:34:10.835485800Z",
     "start_time": "2024-03-06T17:34:10.746859700Z"
    }
   },
   "id": "3e6e74f7356b81db",
   "execution_count": 12
  },
  {
   "cell_type": "code",
   "outputs": [],
   "source": [
    "# Преобразование столбца DateTime в формат даты и времени\n",
    "data['DateTime'] = pd.to_datetime(data['DateTime'])\n",
    "\n",
    "data['DayOfWeek'] = data['DateTime'].dt.dayofweek\n",
    "data['Month'] = data['DateTime'].dt.month\n",
    "data['Year'] = data['DateTime'].dt.year"
   ],
   "metadata": {
    "collapsed": false,
    "ExecuteTime": {
     "end_time": "2024-03-06T17:34:10.864762700Z",
     "start_time": "2024-03-06T17:34:10.750198900Z"
    }
   },
   "id": "345cf61266a51b11",
   "execution_count": 13
  },
  {
   "cell_type": "code",
   "outputs": [],
   "source": [
    "data = data.drop('DateTime', axis=1)"
   ],
   "metadata": {
    "collapsed": false,
    "ExecuteTime": {
     "end_time": "2024-03-06T17:34:10.878783100Z",
     "start_time": "2024-03-06T17:34:10.771365200Z"
    }
   },
   "id": "f131296a4376a965",
   "execution_count": 14
  },
  {
   "cell_type": "markdown",
   "source": [
    "Также можно извлечь информацию из породы (Breed) и цвета (Color), возможно, уменьшив количество уникальных категорий или выделив основные породы и цвета"
   ],
   "metadata": {
    "collapsed": false
   },
   "id": "6d838bb36edb0f5c"
  },
  {
   "cell_type": "markdown",
   "source": [
    "Упрощение категорий: Если в данных слишком много уникальных пород или цветов, вы можете упростить их, объединив редкие категории в общие группы. Например, все породы, которые встречаются менее чем в 1% случаев, можно объединить в категорию \"Other\"."
   ],
   "metadata": {
    "collapsed": false
   },
   "id": "d4d04281ba6030af"
  },
  {
   "cell_type": "code",
   "outputs": [],
   "source": [
    "# Упрощение категорий пород\n",
    "breed_counts = data['Breed'].value_counts()\n",
    "rare_breeds = breed_counts[breed_counts < data.shape[0] * 0.01].index   # 1% от общего количества животных\n",
    "data['SimplifiedBreed'] = data['Breed'].apply(lambda x: 'Other' if x in rare_breeds else x)\n",
    "\n",
    "# Упрощение категорий цветов\n",
    "color_counts = data['Color'].value_counts()\n",
    "rare_colors = color_counts[color_counts < data.shape[0] * 0.01].index  # 1% от общего количества животных\n",
    "data['SimplifiedColor'] = data['Color'].apply(lambda x: 'Other' if x in rare_colors else x)"
   ],
   "metadata": {
    "collapsed": false,
    "ExecuteTime": {
     "end_time": "2024-03-06T17:34:10.891282300Z",
     "start_time": "2024-03-06T17:34:10.777380100Z"
    }
   },
   "id": "230c208b96a96a36",
   "execution_count": 15
  },
  {
   "cell_type": "code",
   "outputs": [
    {
     "data": {
      "text/plain": "      AnimalID      OutcomeType AnimalType SexuponOutcome  AgeuponOutcome  \\\n0      A671945  Return_to_owner        Dog  Neutered Male           365.0   \n1      A656520       Euthanasia        Cat  Spayed Female           365.0   \n2      A686464         Adoption        Dog  Neutered Male           730.0   \n3      A683430         Transfer        Cat    Intact Male            21.0   \n4      A667013         Transfer        Dog  Neutered Male           730.0   \n...        ...              ...        ...            ...             ...   \n26724  A702446         Transfer        Cat    Intact Male            30.0   \n26725  A718934         Transfer        Cat  Spayed Female            90.0   \n26726  A698128         Adoption        Dog  Neutered Male          1460.0   \n26727  A677478         Transfer        Cat    Intact Male            28.0   \n26728  A706629         Transfer        Cat    Intact Male           365.0   \n\n                             Breed              Color  HasName  DayOfWeek  \\\n0            Shetland Sheepdog Mix        Brown/White        1          2   \n1           Domestic Shorthair Mix        Cream Tabby        1          6   \n2                     Pit Bull Mix         Blue/White        1          5   \n3           Domestic Shorthair Mix         Blue Cream        0          4   \n4      Lhasa Apso/Miniature Poodle                Tan        0          4   \n...                            ...                ...      ...        ...   \n26724       Domestic Shorthair Mix  Brown Tabby/White        0          3   \n26725       Domestic Shorthair Mix        Brown Tabby        0          2   \n26726      Old English Bulldog Mix          White/Tan        1          0   \n26727       Domestic Shorthair Mix              Black        0          6   \n26728       Domestic Shorthair Mix  Brown Tabby/White        0          3   \n\n       Month  Year         SimplifiedBreed    SimplifiedColor  \n0          2  2014                   Other        Brown/White  \n1         10  2013  Domestic Shorthair Mix              Other  \n2          1  2015            Pit Bull Mix         Blue/White  \n3          7  2014  Domestic Shorthair Mix              Other  \n4         11  2013                   Other                Tan  \n...      ...   ...                     ...                ...  \n26724      5  2015  Domestic Shorthair Mix  Brown Tabby/White  \n26725      1  2016  Domestic Shorthair Mix        Brown Tabby  \n26726      3  2015                   Other          White/Tan  \n26727      4  2014  Domestic Shorthair Mix              Black  \n26728      7  2015  Domestic Shorthair Mix  Brown Tabby/White  \n\n[26729 rows x 13 columns]",
      "text/html": "<div>\n<style scoped>\n    .dataframe tbody tr th:only-of-type {\n        vertical-align: middle;\n    }\n\n    .dataframe tbody tr th {\n        vertical-align: top;\n    }\n\n    .dataframe thead th {\n        text-align: right;\n    }\n</style>\n<table border=\"1\" class=\"dataframe\">\n  <thead>\n    <tr style=\"text-align: right;\">\n      <th></th>\n      <th>AnimalID</th>\n      <th>OutcomeType</th>\n      <th>AnimalType</th>\n      <th>SexuponOutcome</th>\n      <th>AgeuponOutcome</th>\n      <th>Breed</th>\n      <th>Color</th>\n      <th>HasName</th>\n      <th>DayOfWeek</th>\n      <th>Month</th>\n      <th>Year</th>\n      <th>SimplifiedBreed</th>\n      <th>SimplifiedColor</th>\n    </tr>\n  </thead>\n  <tbody>\n    <tr>\n      <th>0</th>\n      <td>A671945</td>\n      <td>Return_to_owner</td>\n      <td>Dog</td>\n      <td>Neutered Male</td>\n      <td>365.0</td>\n      <td>Shetland Sheepdog Mix</td>\n      <td>Brown/White</td>\n      <td>1</td>\n      <td>2</td>\n      <td>2</td>\n      <td>2014</td>\n      <td>Other</td>\n      <td>Brown/White</td>\n    </tr>\n    <tr>\n      <th>1</th>\n      <td>A656520</td>\n      <td>Euthanasia</td>\n      <td>Cat</td>\n      <td>Spayed Female</td>\n      <td>365.0</td>\n      <td>Domestic Shorthair Mix</td>\n      <td>Cream Tabby</td>\n      <td>1</td>\n      <td>6</td>\n      <td>10</td>\n      <td>2013</td>\n      <td>Domestic Shorthair Mix</td>\n      <td>Other</td>\n    </tr>\n    <tr>\n      <th>2</th>\n      <td>A686464</td>\n      <td>Adoption</td>\n      <td>Dog</td>\n      <td>Neutered Male</td>\n      <td>730.0</td>\n      <td>Pit Bull Mix</td>\n      <td>Blue/White</td>\n      <td>1</td>\n      <td>5</td>\n      <td>1</td>\n      <td>2015</td>\n      <td>Pit Bull Mix</td>\n      <td>Blue/White</td>\n    </tr>\n    <tr>\n      <th>3</th>\n      <td>A683430</td>\n      <td>Transfer</td>\n      <td>Cat</td>\n      <td>Intact Male</td>\n      <td>21.0</td>\n      <td>Domestic Shorthair Mix</td>\n      <td>Blue Cream</td>\n      <td>0</td>\n      <td>4</td>\n      <td>7</td>\n      <td>2014</td>\n      <td>Domestic Shorthair Mix</td>\n      <td>Other</td>\n    </tr>\n    <tr>\n      <th>4</th>\n      <td>A667013</td>\n      <td>Transfer</td>\n      <td>Dog</td>\n      <td>Neutered Male</td>\n      <td>730.0</td>\n      <td>Lhasa Apso/Miniature Poodle</td>\n      <td>Tan</td>\n      <td>0</td>\n      <td>4</td>\n      <td>11</td>\n      <td>2013</td>\n      <td>Other</td>\n      <td>Tan</td>\n    </tr>\n    <tr>\n      <th>...</th>\n      <td>...</td>\n      <td>...</td>\n      <td>...</td>\n      <td>...</td>\n      <td>...</td>\n      <td>...</td>\n      <td>...</td>\n      <td>...</td>\n      <td>...</td>\n      <td>...</td>\n      <td>...</td>\n      <td>...</td>\n      <td>...</td>\n    </tr>\n    <tr>\n      <th>26724</th>\n      <td>A702446</td>\n      <td>Transfer</td>\n      <td>Cat</td>\n      <td>Intact Male</td>\n      <td>30.0</td>\n      <td>Domestic Shorthair Mix</td>\n      <td>Brown Tabby/White</td>\n      <td>0</td>\n      <td>3</td>\n      <td>5</td>\n      <td>2015</td>\n      <td>Domestic Shorthair Mix</td>\n      <td>Brown Tabby/White</td>\n    </tr>\n    <tr>\n      <th>26725</th>\n      <td>A718934</td>\n      <td>Transfer</td>\n      <td>Cat</td>\n      <td>Spayed Female</td>\n      <td>90.0</td>\n      <td>Domestic Shorthair Mix</td>\n      <td>Brown Tabby</td>\n      <td>0</td>\n      <td>2</td>\n      <td>1</td>\n      <td>2016</td>\n      <td>Domestic Shorthair Mix</td>\n      <td>Brown Tabby</td>\n    </tr>\n    <tr>\n      <th>26726</th>\n      <td>A698128</td>\n      <td>Adoption</td>\n      <td>Dog</td>\n      <td>Neutered Male</td>\n      <td>1460.0</td>\n      <td>Old English Bulldog Mix</td>\n      <td>White/Tan</td>\n      <td>1</td>\n      <td>0</td>\n      <td>3</td>\n      <td>2015</td>\n      <td>Other</td>\n      <td>White/Tan</td>\n    </tr>\n    <tr>\n      <th>26727</th>\n      <td>A677478</td>\n      <td>Transfer</td>\n      <td>Cat</td>\n      <td>Intact Male</td>\n      <td>28.0</td>\n      <td>Domestic Shorthair Mix</td>\n      <td>Black</td>\n      <td>0</td>\n      <td>6</td>\n      <td>4</td>\n      <td>2014</td>\n      <td>Domestic Shorthair Mix</td>\n      <td>Black</td>\n    </tr>\n    <tr>\n      <th>26728</th>\n      <td>A706629</td>\n      <td>Transfer</td>\n      <td>Cat</td>\n      <td>Intact Male</td>\n      <td>365.0</td>\n      <td>Domestic Shorthair Mix</td>\n      <td>Brown Tabby/White</td>\n      <td>0</td>\n      <td>3</td>\n      <td>7</td>\n      <td>2015</td>\n      <td>Domestic Shorthair Mix</td>\n      <td>Brown Tabby/White</td>\n    </tr>\n  </tbody>\n</table>\n<p>26729 rows × 13 columns</p>\n</div>"
     },
     "execution_count": 16,
     "metadata": {},
     "output_type": "execute_result"
    }
   ],
   "source": [
    "data"
   ],
   "metadata": {
    "collapsed": false,
    "ExecuteTime": {
     "end_time": "2024-03-06T17:34:10.897206500Z",
     "start_time": "2024-03-06T17:34:10.824598700Z"
    }
   },
   "id": "4290a99c1cdd2dc8",
   "execution_count": 16
  },
  {
   "cell_type": "code",
   "outputs": [],
   "source": [
    "data = data.drop(['Breed', 'Color'], axis=1)"
   ],
   "metadata": {
    "collapsed": false,
    "ExecuteTime": {
     "end_time": "2024-03-06T17:34:10.913494600Z",
     "start_time": "2024-03-06T17:34:10.833485Z"
    }
   },
   "id": "17eba698e9185bc2",
   "execution_count": 17
  },
  {
   "cell_type": "markdown",
   "source": [
    "Кодирование категориальных переменных: Поскольку большинство ваших столбцов являются категориальными (тип object), вам нужно будет закодировать их перед обучением модели. Вы можете использовать one-hot encoding или label encoding в зависимости от количества уникальных значений в каждом столбце.\n",
    "\n",
    "one-hot encoding - если не важен порядок\n",
    "label encoding - если важен"
   ],
   "metadata": {
    "collapsed": false
   },
   "id": "789fbf127e5753d4"
  },
  {
   "cell_type": "code",
   "outputs": [],
   "source": [
    "# преобразуем OneHotEncoding\n",
    "data = pd.get_dummies(data, columns=['SimplifiedColor', 'SimplifiedBreed', 'AnimalType', 'SexuponOutcome', 'OutcomeType'])"
   ],
   "metadata": {
    "collapsed": false,
    "ExecuteTime": {
     "end_time": "2024-03-06T17:34:10.958273300Z",
     "start_time": "2024-03-06T17:34:10.839524400Z"
    }
   },
   "id": "a33e0a7dd60110ef",
   "execution_count": 18
  },
  {
   "cell_type": "code",
   "outputs": [],
   "source": [
    "# Удаление ненужных столбцов\n",
    "data = data.drop(['AnimalID'], axis=1)"
   ],
   "metadata": {
    "collapsed": false,
    "ExecuteTime": {
     "end_time": "2024-03-06T17:34:10.959278900Z",
     "start_time": "2024-03-06T17:34:10.854277800Z"
    }
   },
   "id": "bba61bb503a17993",
   "execution_count": 19
  },
  {
   "cell_type": "code",
   "outputs": [],
   "source": [
    "# Преобразование типов данных\n",
    "for col in data.columns:\n",
    "    if data[col].dtype == 'bool':\n",
    "        data[col] = data[col].astype(int)"
   ],
   "metadata": {
    "collapsed": false,
    "ExecuteTime": {
     "end_time": "2024-03-06T17:34:10.974739200Z",
     "start_time": "2024-03-06T17:34:10.859762900Z"
    }
   },
   "id": "62c147bee6da0ff6",
   "execution_count": 20
  },
  {
   "cell_type": "code",
   "outputs": [],
   "source": [
    "# Нормализация/стандартизация числовых признаков\n",
    "scaler = StandardScaler()\n",
    "data['AgeuponOutcome'] = scaler.fit_transform(data[['AgeuponOutcome']])"
   ],
   "metadata": {
    "collapsed": false,
    "ExecuteTime": {
     "end_time": "2024-03-06T17:34:10.977143Z",
     "start_time": "2024-03-06T17:34:10.871298100Z"
    }
   },
   "id": "626dc91e6b26d47c",
   "execution_count": 21
  },
  {
   "cell_type": "code",
   "outputs": [],
   "source": [
    "# Проверка на дубликаты\n",
    "data = data.drop_duplicates()"
   ],
   "metadata": {
    "collapsed": false,
    "ExecuteTime": {
     "end_time": "2024-03-06T17:34:10.997214900Z",
     "start_time": "2024-03-06T17:34:10.876772Z"
    }
   },
   "id": "11e1ab616c15b46e",
   "execution_count": 22
  },
  {
   "cell_type": "markdown",
   "source": [
    "# Разделим на X_train и y_train и обработаем X_test "
   ],
   "metadata": {
    "collapsed": false
   },
   "id": "c6f142a163ffd24b"
  },
  {
   "cell_type": "code",
   "outputs": [],
   "source": [
    "# Отделение признаков (X) от целевой переменной (y)\n",
    "X_train = data.drop(['OutcomeType_Adoption', 'OutcomeType_Died', 'OutcomeType_Euthanasia', 'OutcomeType_Return_to_owner', 'OutcomeType_Transfer'], axis=1)\n",
    "y_train = data[['OutcomeType_Adoption', 'OutcomeType_Died', 'OutcomeType_Euthanasia', 'OutcomeType_Return_to_owner', 'OutcomeType_Transfer']]"
   ],
   "metadata": {
    "collapsed": false,
    "ExecuteTime": {
     "end_time": "2024-03-06T17:34:10.998214800Z",
     "start_time": "2024-03-06T17:34:10.899716100Z"
    }
   },
   "id": "686eac8f48303a3f",
   "execution_count": 23
  },
  {
   "cell_type": "code",
   "outputs": [],
   "source": [
    "X_test = pd.read_csv('csv/animal_test.csv', index_col='ID')"
   ],
   "metadata": {
    "collapsed": false,
    "ExecuteTime": {
     "end_time": "2024-03-06T17:34:11.001194300Z",
     "start_time": "2024-03-06T17:34:10.907495300Z"
    }
   },
   "id": "6f3c634ec98c08f7",
   "execution_count": 24
  },
  {
   "cell_type": "code",
   "outputs": [
    {
     "data": {
      "text/plain": "           Name             DateTime AnimalType SexuponOutcome AgeuponOutcome  \\\nID                                                                              \n1        Summer  2015-10-12 12:15:00        Dog  Intact Female      10 months   \n2      Cheyenne  2014-07-26 17:59:00        Dog  Spayed Female        2 years   \n3           Gus  2016-01-13 12:20:00        Cat  Neutered Male         1 year   \n4         Pongo  2013-12-28 18:12:00        Dog    Intact Male       4 months   \n5       Skooter  2015-09-24 17:59:00        Dog  Neutered Male        2 years   \n...         ...                  ...        ...            ...            ...   \n11452       NaN  2014-07-08 14:50:00        Cat  Neutered Male       2 months   \n11453       NaN  2014-10-21 12:57:00        Cat  Intact Female        2 weeks   \n11454       NaN  2014-09-29 09:00:00        Cat  Intact Female         1 year   \n11455     Rambo  2015-09-05 17:16:00        Dog  Neutered Male        6 years   \n11456     Gusto  2014-07-12 18:40:00        Dog    Intact Male        4 years   \n\n                                Breed        Color  \nID                                                  \n1              Labrador Retriever Mix    Red/White  \n2      German Shepherd/Siberian Husky    Black/Tan  \n3              Domestic Shorthair Mix  Brown Tabby  \n4                   Collie Smooth Mix     Tricolor  \n5                Miniature Poodle Mix        White  \n...                               ...          ...  \n11452          Domestic Shorthair Mix        Black  \n11453          Domestic Shorthair Mix         Blue  \n11454          Domestic Shorthair Mix       Calico  \n11455             German Shepherd Mix    Black/Tan  \n11456              Labrador Retriever        Cream  \n\n[11456 rows x 7 columns]",
      "text/html": "<div>\n<style scoped>\n    .dataframe tbody tr th:only-of-type {\n        vertical-align: middle;\n    }\n\n    .dataframe tbody tr th {\n        vertical-align: top;\n    }\n\n    .dataframe thead th {\n        text-align: right;\n    }\n</style>\n<table border=\"1\" class=\"dataframe\">\n  <thead>\n    <tr style=\"text-align: right;\">\n      <th></th>\n      <th>Name</th>\n      <th>DateTime</th>\n      <th>AnimalType</th>\n      <th>SexuponOutcome</th>\n      <th>AgeuponOutcome</th>\n      <th>Breed</th>\n      <th>Color</th>\n    </tr>\n    <tr>\n      <th>ID</th>\n      <th></th>\n      <th></th>\n      <th></th>\n      <th></th>\n      <th></th>\n      <th></th>\n      <th></th>\n    </tr>\n  </thead>\n  <tbody>\n    <tr>\n      <th>1</th>\n      <td>Summer</td>\n      <td>2015-10-12 12:15:00</td>\n      <td>Dog</td>\n      <td>Intact Female</td>\n      <td>10 months</td>\n      <td>Labrador Retriever Mix</td>\n      <td>Red/White</td>\n    </tr>\n    <tr>\n      <th>2</th>\n      <td>Cheyenne</td>\n      <td>2014-07-26 17:59:00</td>\n      <td>Dog</td>\n      <td>Spayed Female</td>\n      <td>2 years</td>\n      <td>German Shepherd/Siberian Husky</td>\n      <td>Black/Tan</td>\n    </tr>\n    <tr>\n      <th>3</th>\n      <td>Gus</td>\n      <td>2016-01-13 12:20:00</td>\n      <td>Cat</td>\n      <td>Neutered Male</td>\n      <td>1 year</td>\n      <td>Domestic Shorthair Mix</td>\n      <td>Brown Tabby</td>\n    </tr>\n    <tr>\n      <th>4</th>\n      <td>Pongo</td>\n      <td>2013-12-28 18:12:00</td>\n      <td>Dog</td>\n      <td>Intact Male</td>\n      <td>4 months</td>\n      <td>Collie Smooth Mix</td>\n      <td>Tricolor</td>\n    </tr>\n    <tr>\n      <th>5</th>\n      <td>Skooter</td>\n      <td>2015-09-24 17:59:00</td>\n      <td>Dog</td>\n      <td>Neutered Male</td>\n      <td>2 years</td>\n      <td>Miniature Poodle Mix</td>\n      <td>White</td>\n    </tr>\n    <tr>\n      <th>...</th>\n      <td>...</td>\n      <td>...</td>\n      <td>...</td>\n      <td>...</td>\n      <td>...</td>\n      <td>...</td>\n      <td>...</td>\n    </tr>\n    <tr>\n      <th>11452</th>\n      <td>NaN</td>\n      <td>2014-07-08 14:50:00</td>\n      <td>Cat</td>\n      <td>Neutered Male</td>\n      <td>2 months</td>\n      <td>Domestic Shorthair Mix</td>\n      <td>Black</td>\n    </tr>\n    <tr>\n      <th>11453</th>\n      <td>NaN</td>\n      <td>2014-10-21 12:57:00</td>\n      <td>Cat</td>\n      <td>Intact Female</td>\n      <td>2 weeks</td>\n      <td>Domestic Shorthair Mix</td>\n      <td>Blue</td>\n    </tr>\n    <tr>\n      <th>11454</th>\n      <td>NaN</td>\n      <td>2014-09-29 09:00:00</td>\n      <td>Cat</td>\n      <td>Intact Female</td>\n      <td>1 year</td>\n      <td>Domestic Shorthair Mix</td>\n      <td>Calico</td>\n    </tr>\n    <tr>\n      <th>11455</th>\n      <td>Rambo</td>\n      <td>2015-09-05 17:16:00</td>\n      <td>Dog</td>\n      <td>Neutered Male</td>\n      <td>6 years</td>\n      <td>German Shepherd Mix</td>\n      <td>Black/Tan</td>\n    </tr>\n    <tr>\n      <th>11456</th>\n      <td>Gusto</td>\n      <td>2014-07-12 18:40:00</td>\n      <td>Dog</td>\n      <td>Intact Male</td>\n      <td>4 years</td>\n      <td>Labrador Retriever</td>\n      <td>Cream</td>\n    </tr>\n  </tbody>\n</table>\n<p>11456 rows × 7 columns</p>\n</div>"
     },
     "execution_count": 25,
     "metadata": {},
     "output_type": "execute_result"
    }
   ],
   "source": [
    "X_test"
   ],
   "metadata": {
    "collapsed": false,
    "ExecuteTime": {
     "end_time": "2024-03-06T17:34:11.003217500Z",
     "start_time": "2024-03-06T17:34:10.923430800Z"
    }
   },
   "id": "bbe7e48cc92f31ad",
   "execution_count": 25
  },
  {
   "cell_type": "code",
   "outputs": [
    {
     "data": {
      "text/plain": "Name              3225\nDateTime             0\nAnimalType           0\nSexuponOutcome       0\nAgeuponOutcome       6\nBreed                0\nColor                0\ndtype: int64"
     },
     "execution_count": 26,
     "metadata": {},
     "output_type": "execute_result"
    }
   ],
   "source": [
    "X_test.isna().sum()"
   ],
   "metadata": {
    "collapsed": false,
    "ExecuteTime": {
     "end_time": "2024-03-06T17:34:11.015195300Z",
     "start_time": "2024-03-06T17:34:10.933110700Z"
    }
   },
   "id": "aea123d94bdeee19",
   "execution_count": 26
  },
  {
   "cell_type": "code",
   "outputs": [],
   "source": [
    "# Создание новой бинарной переменной для столбца Name\n",
    "X_test['HasName'] = X_test['Name'].apply(lambda x: 0 if pd.isnull(x) else 1)"
   ],
   "metadata": {
    "collapsed": false,
    "ExecuteTime": {
     "end_time": "2024-03-06T17:34:11.017194500Z",
     "start_time": "2024-03-06T17:34:10.936686700Z"
    }
   },
   "id": "308d452fd33b1512",
   "execution_count": 27
  },
  {
   "cell_type": "code",
   "outputs": [],
   "source": [
    "X_test = X_test.drop('Name', axis=1)"
   ],
   "metadata": {
    "collapsed": false,
    "ExecuteTime": {
     "end_time": "2024-03-06T17:34:11.051194500Z",
     "start_time": "2024-03-06T17:34:10.943411800Z"
    }
   },
   "id": "1878080db56dcf73",
   "execution_count": 28
  },
  {
   "cell_type": "code",
   "outputs": [],
   "source": [
    "# Для преобразования возраста животных из формата строк в числовой формат (в днях), вы можете использовать следующий код:\n",
    "def age_to_days(age_str):\n",
    "    if pd.isnull(age_str):\n",
    "        return None\n",
    "    num, unit = age_str.split(' ')\n",
    "    num = int(num)\n",
    "    if 'year' in unit:\n",
    "        return num * 365\n",
    "    elif 'month' in unit:\n",
    "        return num * 30\n",
    "    elif 'week' in unit:\n",
    "        return num * 7\n",
    "    elif 'day' in unit:\n",
    "        return num\n",
    "    else:\n",
    "        return None\n",
    "\n",
    "# Преобразование возраста из строки в числовой формат (в днях)\n",
    "X_test['AgeuponOutcome'] = X_test['AgeuponOutcome'].apply(age_to_days)"
   ],
   "metadata": {
    "collapsed": false,
    "ExecuteTime": {
     "end_time": "2024-03-06T17:34:11.053195Z",
     "start_time": "2024-03-06T17:34:10.946703600Z"
    }
   },
   "id": "7ba6c1b6d7acc499",
   "execution_count": 29
  },
  {
   "cell_type": "code",
   "outputs": [],
   "source": [
    "# заполняем пустые значения средним значением по столбцу\n",
    "X_test['AgeuponOutcome'] = X_test['AgeuponOutcome'].fillna(X_test['AgeuponOutcome'].mean())"
   ],
   "metadata": {
    "collapsed": false,
    "ExecuteTime": {
     "end_time": "2024-03-06T17:34:11.056194100Z",
     "start_time": "2024-03-06T17:34:10.957029400Z"
    }
   },
   "id": "9ff392586d36acf1",
   "execution_count": 30
  },
  {
   "cell_type": "code",
   "outputs": [],
   "source": [
    "# Преобразование столбца DateTime в формат даты и времени\n",
    "X_test['DateTime'] = pd.to_datetime(X_test['DateTime'])\n",
    "\n",
    "X_test['DayOfWeek'] = X_test['DateTime'].dt.dayofweek\n",
    "X_test['Month'] = X_test['DateTime'].dt.month\n",
    "X_test['Year'] = X_test['DateTime'].dt.year"
   ],
   "metadata": {
    "collapsed": false,
    "ExecuteTime": {
     "end_time": "2024-03-06T17:34:11.071199500Z",
     "start_time": "2024-03-06T17:34:10.966278200Z"
    }
   },
   "id": "7d17b527478f862f",
   "execution_count": 31
  },
  {
   "cell_type": "code",
   "outputs": [],
   "source": [
    "X_test = X_test.drop('DateTime', axis=1)"
   ],
   "metadata": {
    "collapsed": false,
    "ExecuteTime": {
     "end_time": "2024-03-06T17:34:11.087713800Z",
     "start_time": "2024-03-06T17:34:10.974739200Z"
    }
   },
   "id": "107570d864124fa7",
   "execution_count": 32
  },
  {
   "cell_type": "code",
   "outputs": [],
   "source": [
    "# Упрощение категорий пород\n",
    "breed_counts = X_test['Breed'].value_counts()\n",
    "rare_breeds = breed_counts[breed_counts < X_test.shape[0] * 0.01].index   # 1% от общего количества животных\n",
    "X_test['SimplifiedBreed'] = X_test['Breed'].apply(lambda x: 'Other' if x in rare_breeds else x)\n",
    "\n",
    "# Упрощение категорий цветов\n",
    "color_counts = X_test['Color'].value_counts()\n",
    "rare_colors = color_counts[color_counts < X_test.shape[0] * 0.01].index  # 1% от общего количества животных\n",
    "X_test['SimplifiedColor'] = X_test['Color'].apply(lambda x: 'Other' if x in rare_colors else x)"
   ],
   "metadata": {
    "collapsed": false,
    "ExecuteTime": {
     "end_time": "2024-03-06T17:34:11.177996400Z",
     "start_time": "2024-03-06T17:34:11.078199600Z"
    }
   },
   "id": "e1274cdecf384b1c",
   "execution_count": 33
  },
  {
   "cell_type": "code",
   "outputs": [],
   "source": [
    "X_test = X_test.drop(['Breed', 'Color'], axis=1)"
   ],
   "metadata": {
    "collapsed": false,
    "ExecuteTime": {
     "end_time": "2024-03-06T17:34:11.212257600Z",
     "start_time": "2024-03-06T17:34:11.171485600Z"
    }
   },
   "id": "8de5839c2823b176",
   "execution_count": 34
  },
  {
   "cell_type": "code",
   "outputs": [],
   "source": [
    "# преобразуем OneHotEncoding\n",
    "X_test = pd.get_dummies(X_test, columns=['SimplifiedColor', 'SimplifiedBreed', 'AnimalType', 'SexuponOutcome'])"
   ],
   "metadata": {
    "collapsed": false,
    "ExecuteTime": {
     "end_time": "2024-03-06T17:34:11.281976900Z",
     "start_time": "2024-03-06T17:34:11.213258800Z"
    }
   },
   "id": "2b0b67e89beafc23",
   "execution_count": 35
  },
  {
   "cell_type": "code",
   "outputs": [],
   "source": [
    "# Преобразование типов данных\n",
    "for col in X_test.columns:\n",
    "    if X_test[col].dtype == 'bool':\n",
    "        X_test[col] = X_test[col].astype(int)"
   ],
   "metadata": {
    "collapsed": false,
    "ExecuteTime": {
     "end_time": "2024-03-06T17:34:11.296178900Z",
     "start_time": "2024-03-06T17:34:11.273220100Z"
    }
   },
   "id": "2fa8ba1707bb8786",
   "execution_count": 36
  },
  {
   "cell_type": "code",
   "outputs": [],
   "source": [
    "# Нормализация/стандартизация числовых признаков\n",
    "scaler = StandardScaler()\n",
    "X_test['AgeuponOutcome'] = scaler.fit_transform(X_test[['AgeuponOutcome']])"
   ],
   "metadata": {
    "collapsed": false,
    "ExecuteTime": {
     "end_time": "2024-03-06T17:34:11.328930700Z",
     "start_time": "2024-03-06T17:34:11.297176100Z"
    }
   },
   "id": "aaf083e5a5678f5b",
   "execution_count": 37
  },
  {
   "cell_type": "code",
   "outputs": [],
   "source": [
    "# # Выравнивание столбцов X_train и X_test\n",
    "# X_train, X_test = X_train.align(X_test, join='outer', axis=1, fill_value=0)"
   ],
   "metadata": {
    "collapsed": false,
    "ExecuteTime": {
     "end_time": "2024-03-06T17:34:11.339931400Z",
     "start_time": "2024-03-06T17:34:11.317699Z"
    }
   },
   "id": "cf1db2db1faa65c2",
   "execution_count": 38
  },
  {
   "cell_type": "code",
   "outputs": [],
   "source": [
    "# в тестовой на один признак столбец больше, удаление столбца SimplifiedColor_Brown Brindle из тестовой выборки\n",
    "X_test.drop(['SimplifiedColor_Brown Brindle'], axis=1, inplace=True)"
   ],
   "metadata": {
    "collapsed": false,
    "ExecuteTime": {
     "end_time": "2024-03-06T17:34:11.372679100Z",
     "start_time": "2024-03-06T17:34:11.344100100Z"
    }
   },
   "id": "bf809a77782d6f53",
   "execution_count": 39
  },
  {
   "cell_type": "markdown",
   "source": [
    "Возникла ошибка, потому что predict_proba возвращает массив формы (n_samples, n_classes), где n_samples - это количество примеров в тестовой выборке, а n_classes - это количество классов. Однако, судя по ошибке, ваш массив имеет три измерения вместо двух.\n",
    "\n",
    "Это может произойти, если y_train был закодирован с помощью one-hot encoding, что приводит к тому, что RandomForestClassifier рассматривает вашу задачу как несколько независимых бинарных классификаций, а не как одну многоклассовую классификацию.\n",
    "\n",
    "Чтобы решить эту проблему, вам нужно использовать LabelEncoder для кодирования y_train перед обучением модели, чтобы преобразовать метки классов из one-hot encoded формата в формат с одним столбцом:"
   ],
   "metadata": {
    "collapsed": false
   },
   "id": "4318f0fe8411bd32"
  },
  {
   "cell_type": "code",
   "outputs": [],
   "source": [
    "from sklearn.preprocessing import LabelEncoder\n",
    "\n",
    "# Кодирование y_train\n",
    "le = LabelEncoder()\n",
    "y_train = le.fit_transform(y_train.idxmax(axis=1))"
   ],
   "metadata": {
    "collapsed": false,
    "ExecuteTime": {
     "end_time": "2024-03-06T17:34:11.377679400Z",
     "start_time": "2024-03-06T17:34:11.364608900Z"
    }
   },
   "id": "9624ab82dba9d169",
   "execution_count": 40
  },
  {
   "cell_type": "markdown",
   "source": [],
   "metadata": {
    "collapsed": false
   },
   "id": "5b4e63908f8f3f7a"
  },
  {
   "cell_type": "markdown",
   "source": [
    "# Выбор модели | обучение | оценка"
   ],
   "metadata": {
    "collapsed": false
   },
   "id": "b762c8b629b0606a"
  },
  {
   "cell_type": "markdown",
   "source": [
    "#### Случайный лес:"
   ],
   "metadata": {
    "collapsed": false
   },
   "id": "796006ba00eb4971"
  },
  {
   "cell_type": "code",
   "outputs": [
    {
     "name": "stdout",
     "output_type": "stream",
     "text": [
      "Лучшие параметры для случайного леса: {'randomforestclassifier__max_depth': 20, 'randomforestclassifier__min_samples_leaf': 1, 'randomforestclassifier__min_samples_split': 10, 'randomforestclassifier__n_estimators': 100}\n",
      "Лучший счет для случайного леса: 0.6373241106454264\n"
     ]
    }
   ],
   "source": [
    "from sklearn.model_selection import GridSearchCV\n",
    "\n",
    "# Определение параметров для GridSearchCV\n",
    "param_grid_rf = {\n",
    "    'randomforestclassifier__n_estimators': [100, 200, 300],\n",
    "    'randomforestclassifier__max_depth': [10, 20, 30],\n",
    "    'randomforestclassifier__min_samples_split': [2, 5, 10],\n",
    "    'randomforestclassifier__min_samples_leaf': [1, 2, 4]\n",
    "}\n",
    "\n",
    "# Создание пайплайна\n",
    "pipeline_rf = Pipeline([\n",
    "    ('randomforestclassifier', RandomForestClassifier(random_state=42))\n",
    "])\n",
    "\n",
    "# Поиск лучших параметров с помощью GridSearchCV\n",
    "grid_rf = GridSearchCV(pipeline_rf, param_grid_rf, cv=5, scoring='accuracy', n_jobs=-1)\n",
    "grid_rf.fit(X_train, y_train)\n",
    "\n",
    "# Вывод лучших параметров и лучшего счета\n",
    "print('Лучшие параметры для случайного леса:', grid_rf.best_params_)\n",
    "print('Лучший счет для случайного леса:', grid_rf.best_score_)"
   ],
   "metadata": {
    "collapsed": false,
    "ExecuteTime": {
     "end_time": "2024-03-06T17:46:31.274506600Z",
     "start_time": "2024-03-06T17:34:11.379678800Z"
    }
   },
   "id": "e5607ae9e39e0641",
   "execution_count": 41
  },
  {
   "cell_type": "markdown",
   "source": [],
   "metadata": {
    "collapsed": false
   },
   "id": "7919a00d48968576"
  },
  {
   "cell_type": "markdown",
   "source": [
    "#### Градиентный бустинг:"
   ],
   "metadata": {
    "collapsed": false
   },
   "id": "8478a27b1444e7b1"
  },
  {
   "cell_type": "code",
   "outputs": [
    {
     "name": "stdout",
     "output_type": "stream",
     "text": [
      "Лучшие параметры для XGBoost: {'xgbclassifier__learning_rate': 0.1, 'xgbclassifier__max_depth': 6, 'xgbclassifier__n_estimators': 100, 'xgbclassifier__subsample': 1.0}\n",
      "Лучший счет для XGBoost: 0.6443155598533744\n"
     ]
    }
   ],
   "source": [
    "from xgboost import XGBClassifier\n",
    "\n",
    "# Определение параметров для GridSearchCV\n",
    "param_grid_xgb = {\n",
    "    'xgbclassifier__n_estimators': [100, 200, 300],\n",
    "    'xgbclassifier__max_depth': [3, 6, 9],\n",
    "    'xgbclassifier__learning_rate': [0.01, 0.1, 0.3],\n",
    "    'xgbclassifier__subsample': [0.8, 0.9, 1.0]\n",
    "}\n",
    "\n",
    "# Создание пайплайна\n",
    "pipeline_xgb = Pipeline([\n",
    "    ('xgbclassifier', XGBClassifier(random_state=42, n_jobs=-1))\n",
    "])\n",
    "\n",
    "# Поиск лучших параметров с помощью GridSearchCV\n",
    "grid_xgb = GridSearchCV(pipeline_xgb, param_grid_xgb, cv=5, scoring='accuracy')\n",
    "grid_xgb.fit(X_train, y_train)\n",
    "\n",
    "# Вывод лучших параметров и лучшего счета\n",
    "print('Лучшие параметры для XGBoost:', grid_xgb.best_params_)\n",
    "print('Лучший счет для XGBoost:', grid_xgb.best_score_)"
   ],
   "metadata": {
    "collapsed": false,
    "ExecuteTime": {
     "end_time": "2024-03-06T18:00:16.609272600Z",
     "start_time": "2024-03-06T17:50:54.204710500Z"
    }
   },
   "id": "f5e2f09edd54fd92",
   "execution_count": 42
  },
  {
   "cell_type": "markdown",
   "source": [],
   "metadata": {
    "collapsed": false
   },
   "id": "e6779a1439034f54"
  },
  {
   "cell_type": "markdown",
   "source": [
    "#### Предсказание Тестовой выборки:"
   ],
   "metadata": {
    "collapsed": false
   },
   "id": "56914046c42c4800"
  },
  {
   "cell_type": "code",
   "outputs": [],
   "source": [
    "# Сделаем предсказания для тестовой выборки\n",
    "y_pred_proba = grid_xgb.predict_proba(X_test)\n",
    "\n",
    "# Подготовим файл для отправки на Kaggle\n",
    "submission = pd.DataFrame(y_pred_proba, columns=['Adoption', 'Died', 'Euthanasia', 'Return_to_owner', 'Transfer'])\n",
    "submission['ID'] = X_test.index\n",
    "submission.to_csv('sample_submission1.csv', index=False)\n"
   ],
   "metadata": {
    "collapsed": false,
    "ExecuteTime": {
     "end_time": "2024-03-06T18:08:30.884341900Z",
     "start_time": "2024-03-06T18:08:30.810250Z"
    }
   },
   "id": "41460a7034261afe",
   "execution_count": 45
  },
  {
   "cell_type": "markdown",
   "source": [
    "Ваш результат 0.83606 означает, что вы достигли довольно высокой точности в предсказании вероятностей исходов для животных, и это отличный результат, особенно если учесть, что это ваше первое участие в таком соревновании. Поздравляю с таким успехом! Если у вас есть еще вопросы или если вы хотите обсудить способы улучшения вашей модели, не стесняйтесь спрашивать."
   ],
   "metadata": {
    "collapsed": false
   },
   "id": "5cad249a5f5cb1ba"
  },
  {
   "cell_type": "markdown",
   "source": [],
   "metadata": {
    "collapsed": false
   },
   "id": "10722dd033ce4687"
  },
  {
   "cell_type": "markdown",
   "source": [
    "\n",
    "Привет, я начинающий специалист по МЛ. Собираюсь справится с тренировочным соревнованием на Kaggle. Вот описание на англ. ниже. А также тренировочный датасет я прикрепил.\n",
    "\n",
    "Description\n",
    "Every year, approximately 7.6 million companion animals end up in US shelters. Many animals are given up as unwanted by their owners, while others are picked up after getting lost or taken out of cruelty situations. Many of these animals find forever families to take them home, but just as many are not so lucky. 2.7 million dogs and cats are euthanized in the US every year.\n",
    "\n",
    "\n",
    "\n",
    "Using a dataset of intake information including breed, color, sex, and age from the Austin Animal Center, we're asking Kagglers to predict the outcome for each animal.\n",
    "\n",
    "We also believe this dataset can help us understand trends in animal outcomes. These insights could help shelters focus their energy on specific animals who need a little extra help finding a new home. We encourage you to publish your insights on Scripts so they are publicly accessible.\n",
    "\n",
    "Acknowledgements\n",
    "Kaggle is hosting this competition for the machine learning community to use for data science practice and social good. The dataset is brought to you by Austin Animal Center. Shelter animal statistics were taken from the ASPCA.\n",
    "\n",
    "Glamour shots of Kaggle's shelter pets are pictured above. From left to right: Shelby, Bailey, Hazel, Daisy, and Yeti.\n",
    "\n",
    "Evaluation\n",
    "Submissions are evaluated using the multi-class logarithmic loss. Each incident has been labeled with one true class. For each animal, you must submit a set of predicted probabilities (one for every class). The formula is then,\n",
    "\n",
    "\n",
    "where N is the number of animals in the test set, M is the number of outcomes, \\\\(log\\\\) is the natural logarithm, \\\\(y_{ij}\\\\) is 1 if observation \\\\(i\\\\) is in outcome \\\\(j\\\\) and 0 otherwise, and \\\\(p_{ij}\\\\) is the predicted probability that observation \\\\(i\\\\) belongs to outcome \\\\(j\\\\).\n",
    "\n",
    "The submitted probabilities for a given animal are not required to sum to one because they are rescaled prior to being scored (each row is divided by the row sum). In order to avoid the extremes of the log function, predicted probabilities are replaced with \\\\(max(min(p,1-10^{-15}),10^{-15})\\\\).\n",
    "\n",
    "Submission Format\n",
    "You must submit a csv file with the animal id, all candidate outcome names, and a probability for each outcome. The order of the rows does not matter. The file must have a header and should look like the following:\n",
    "\n",
    "AnimalID,Adoption,Died,Euthanasia,Return_to_owner,Transfer\n",
    "A715022,1,0,0,0,0\n",
    "A677429,0.5,0.3,0.2,0,0\n",
    "...\n",
    "etc.\n",
    "\n",
    "помоги мне справиться с этим соревнованием. Изучи то что я тебе отправил, вот эти шаги я уже сделал:\n",
    "\n",
    "1. Изучение данных: Загрузите и изучите данные, чтобы понять структуру и содержание. Посмотрите на распределение целевой переменной (исход) и проверьте наличие пропущенных значений.\n",
    "\n",
    "2. Предварительная обработка данных: Подготовьте данные для моделирования. Это может включать заполнение пропущенных значений, кодирование категориальных переменных и нормализацию числовых переменных.\n",
    "\n",
    "3. Разделение данных: Разделите данные на обучающую и тестовую выборки. Это позволит вам оценить производительность модели на независимых данных.\n",
    "\n",
    "дальше мне необходимо выбрать 2 модели случайный лес и градиентный бустинг и помоги мне используя кросс валидацию, метод pipeline перебрать параметры grid_params, также используя gridsearch - найти лучшие параметры и на них сделать предсказание X_test в конце выгрузить результат в виде:\n",
    "\n",
    "submission = pd.DataFrame(predictions, columns=['Adoption', 'Died', 'Euthanasia', 'Return_to_owner', 'Transfer'])\n",
    "submission['ID'] = X_test.index  # Добавляем ID животных\n",
    "submission.to_csv('sample_submission.csv', index=False)\n",
    "\n",
    "согласно заданию:\n",
    "The submitted probabilities for a given animal are not required to sum to one because they are rescaled prior to being scored (each row is divided by the row sum). In order to avoid the extremes of the log function, predicted probabilities are replaced with \\\\(max(min(p,1-10^{-15}),10^{-15})\\\\).\n",
    "\n",
    "Submission Format\n",
    "You must submit a csv file with the animal id, all candidate outcome names, and a probability for each outcome. The order of the rows does not matter. The file must have a header and should look like the following:\n",
    "\n",
    "AnimalID,Adoption,Died,Euthanasia,Return_to_owner,Transfer\n",
    "A715022,1,0,0,0,0\n",
    "A677429,0.5,0.3,0.2,0,0\n",
    "\n",
    "прочитай это и напиги мне что все изучил, после чего я сброшу тебе первую половину - код который я написал сам, а ты уже продолжишь\n",
    "думай хорошо, шаг за шагом, это важно для моей карьеры, я дам тебе чаевые 20$ "
   ],
   "metadata": {
    "collapsed": false
   },
   "id": "bb3424c78f9d9cae"
  }
 ],
 "metadata": {
  "kernelspec": {
   "display_name": "Python 3",
   "language": "python",
   "name": "python3"
  },
  "language_info": {
   "codemirror_mode": {
    "name": "ipython",
    "version": 2
   },
   "file_extension": ".py",
   "mimetype": "text/x-python",
   "name": "python",
   "nbconvert_exporter": "python",
   "pygments_lexer": "ipython2",
   "version": "2.7.6"
  }
 },
 "nbformat": 4,
 "nbformat_minor": 5
}
